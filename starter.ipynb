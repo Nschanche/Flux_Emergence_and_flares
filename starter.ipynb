{
 "cells": [
  {
   "cell_type": "code",
   "execution_count": 1,
   "metadata": {
    "collapsed": true
   },
   "outputs": [],
   "source": [
    "#working on writing useful functions to translate/examine HEK data output\n",
    "\n",
    "import numpy as np\n",
    "from shapely.geometry import Polygon\n",
    "from shapely import wkt\n",
    "from sunpy.time import parse_time"
   ]
  },
  {
   "cell_type": "code",
   "execution_count": 2,
   "metadata": {
    "collapsed": true
   },
   "outputs": [],
   "source": [
    "#HEK exports certain data as unicode strings. Convert these strings to relevant, useful datatypes\n",
    "\n",
    "def unicode2datetime(time_array):\n",
    "    for i, elem in time_array:\n",
    "        time_array[i] = parse_time(elem)\n",
    "        \n",
    "def unicode2polygon(bbox_array):\n",
    "    for i, elem in bbox_array:\n",
    "        bbox_array[i] = wkt.loads(elem)"
   ]
  },
  {
   "cell_type": "code",
   "execution_count": 3,
   "metadata": {
    "collapsed": true
   },
   "outputs": [],
   "source": [
    "#function to determine whether 2 polygons overlap and, if so, in what manner they overlap.\n",
    "#returns a list of booleans indicating different kinds of overlap \n",
    "#input parameters must both be shapely Polygons\n",
    "\n",
    "def overlap(polygon1, polygon2):\n",
    "    is_intersect = polygon1.intersects(polygon2)\n",
    "    if is_intersect == False:\n",
    "        is_crosses = False\n",
    "        is_touches = False\n",
    "        is_contained = False\n",
    "        is_within = False\n",
    "    else:\n",
    "        is_crosses = polygon1.crosses(polygon2)\n",
    "        is_touches = polygon1.touches(polygon2)\n",
    "        is_contained = polygon1.contained(polygon2)\n",
    "        is_within = polygon1.within(polygon2)\n",
    "    return [is_intersect, is_crosses, is_touches, is_contained, is_within]"
   ]
  },
  {
   "cell_type": "code",
   "execution_count": null,
   "metadata": {
    "collapsed": true
   },
   "outputs": [],
   "source": []
  },
  {
   "cell_type": "code",
   "execution_count": 4,
   "metadata": {
    "collapsed": true
   },
   "outputs": [],
   "source": [
    "#function to determine the shortest distance between two preselected points on a sphere where we know \n",
    "#the radius of the sphere\n",
    "#would be of use in calculating the distance between the centers of the flux emergence and flare\n",
    "#nts: maybe change x,y inputs to be tuples later\n",
    "def geodesic(x1, y1, x2, y2, r):\n",
    "    chord = np.sqrt((x2-x1)**2 + (y2-y1)**2)\n",
    "    s = r*np.arcsin(chord/(2*r))\n",
    "    return s"
   ]
  },
  {
   "cell_type": "code",
   "execution_count": 5,
   "metadata": {
    "collapsed": false
   },
   "outputs": [
    {
     "ename": "SyntaxError",
     "evalue": "invalid syntax (<ipython-input-5-4267f98e1ba1>, line 2)",
     "output_type": "error",
     "traceback": [
      "\u001b[0;36m  File \u001b[0;32m\"<ipython-input-5-4267f98e1ba1>\"\u001b[0;36m, line \u001b[0;32m2\u001b[0m\n\u001b[0;31m    def short_dis_areas(polygon1_area, polygon2_area) #r? will have to add a column for flare area as that's not a given\u001b[0m\n\u001b[0m                                                                                                                        ^\u001b[0m\n\u001b[0;31mSyntaxError\u001b[0m\u001b[0;31m:\u001b[0m invalid syntax\n"
     ]
    }
   ],
   "source": [
    "#function to find shortest distance separating two areas\n",
    "def short_dis_areas(polygon1_area, polygon2_area): #r? will have to add a column for flare area as that's not a given\n",
    "#account for normalization by looking at disk center?\n"
   ]
  },
  {
   "cell_type": "code",
   "execution_count": null,
   "metadata": {
    "collapsed": true
   },
   "outputs": [],
   "source": [
    "#function removes/sythesizes dupiclate entries for the same event"
   ]
  }
 ],
 "metadata": {
  "kernelspec": {
   "display_name": "Python 2",
   "language": "python",
   "name": "python2"
  },
  "language_info": {
   "codemirror_mode": {
    "name": "ipython",
    "version": 2
   },
   "file_extension": ".py",
   "mimetype": "text/x-python",
   "name": "python",
   "nbconvert_exporter": "python",
   "pygments_lexer": "ipython2",
   "version": "2.7.11"
  }
 },
 "nbformat": 4,
 "nbformat_minor": 0
}
