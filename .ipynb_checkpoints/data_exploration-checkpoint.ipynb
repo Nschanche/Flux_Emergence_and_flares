{
 "cells": [
  {
   "cell_type": "markdown",
   "metadata": {},
   "source": [
    "# Exploring the HEK - with Python!"
   ]
  },
  {
   "cell_type": "markdown",
   "metadata": {},
   "source": [
    "The goal of this notebook is to indroduce you to the Heliophysics Events Knowledgebase (HEK) data. It uses the sunpy interface to get the data from the HEK. I then demonstrate how to use the data in python by using what is called a pandas data frame.  This makes it easy to split data, plot feature, and merge datasets together. "
   ]
  },
  {
   "cell_type": "code",
   "execution_count": null,
   "metadata": {
    "collapsed": true
   },
   "outputs": [],
   "source": [
    "%matplotlib inline\n",
    "#The above line should be included in all notebooks. It ensures that all plots are printed within this notebook. \n",
    "#If you don't include it, plots will appear in a popup window and it is really annoying. "
   ]
  },
  {
   "cell_type": "code",
   "execution_count": 65,
   "metadata": {
    "collapsed": false
   },
   "outputs": [],
   "source": [
    "#I like to import all of the python packages in the first cell of a notebook so you can see what you will be using\n",
    "#You can always add to this list later as you go along\n",
    "#This is also a good way to know which packages you should have installed on your machine in order to run the code\n",
    "import numpy as np\n",
    "import pandas as pd\n",
    "from datetime import datetime\n",
    "from datetime import timedelta\n",
    "from sunpy.net import hek\n",
    "import matplotlib.pyplot as plt"
   ]
  },
  {
   "cell_type": "code",
   "execution_count": 15,
   "metadata": {
    "collapsed": false
   },
   "outputs": [],
   "source": [
    "#Create a client that will search the HEK. \n",
    "#To then make a query, you just need to supply a start and end time and the event type (there are other things you can do to narrow it down if you want)\n",
    "#This example searches for all flares on Jan 1 as recorded by the flare detective trigger module\n",
    "client = hek.HEKClient()\n",
    "start_time = pd.to_datetime('2016/01/01 00:00')\n",
    "end_time = pd.to_datetime('2016/01/02 00:00')\n",
    "hek_events = client.query(hek.attrs.Time(start_time.isoformat(),\n",
    "                                                 end_time.isoformat()),\n",
    "                                  hek.attrs.EventType('FL'),\n",
    "                                  hek.attrs.FRM.Name == 'Flare Detective - Trigger Module')\n",
    "       \n"
   ]
  },
  {
   "cell_type": "code",
   "execution_count": 22,
   "metadata": {
    "collapsed": false
   },
   "outputs": [
    {
     "name": "stdout",
     "output_type": "stream",
     "text": [
      "There were 33 flares in this time frame\n"
     ]
    }
   ],
   "source": [
    "#Looks at the results. If you run this cell, you can see that there were 33 flares recorded by the HEK at this time.\n",
    "print 'There were %d flares in this time frame' % len(hek_events)\n",
    "#Uncomment this to print all of the keys. There were a ton and it clutters up the notebook, so I didn't do it here. \n",
    "#hek_events[0].keys() #This prints all of the keys the flare data contains"
   ]
  },
  {
   "cell_type": "code",
   "execution_count": 20,
   "metadata": {
    "collapsed": false
   },
   "outputs": [
    {
     "data": {
      "text/plain": [
       "[u'2016-01-01T00:59:33',\n",
       " u'2016-01-01T02:09:21',\n",
       " u'2016-01-01T03:01:33',\n",
       " u'2016-01-01T02:54:23',\n",
       " u'2016-01-01T02:53:48',\n",
       " u'2016-01-01T04:41:21',\n",
       " u'2016-01-01T05:50:21',\n",
       " u'2016-01-01T05:44:59',\n",
       " u'2016-01-01T06:38:57',\n",
       " u'2016-01-01T06:37:47',\n",
       " u'2016-01-01T06:37:30',\n",
       " u'2016-01-01T06:37:48',\n",
       " u'2016-01-01T06:37:43',\n",
       " u'2016-01-01T09:18:57',\n",
       " u'2016-01-01T09:48:09',\n",
       " u'2016-01-01T09:58:42',\n",
       " u'2016-01-01T09:43:47',\n",
       " u'2016-01-01T09:43:48',\n",
       " u'2016-01-01T12:03:57',\n",
       " u'2016-01-01T14:12:09',\n",
       " u'2016-01-01T15:07:21',\n",
       " u'2016-01-01T17:09:09',\n",
       " u'2016-01-01T20:20:45',\n",
       " u'2016-01-01T20:20:23',\n",
       " u'2016-01-01T20:20:24',\n",
       " u'2016-01-01T20:20:18',\n",
       " u'2016-01-01T22:30:21',\n",
       " u'2016-01-01T22:28:35',\n",
       " u'2016-01-01T22:29:30',\n",
       " u'2016-01-01T22:28:36',\n",
       " u'2016-01-01T22:31:13',\n",
       " u'2016-01-01T22:33:59',\n",
       " u'2016-01-02T00:05:57']"
      ]
     },
     "execution_count": 20,
     "metadata": {},
     "output_type": "execute_result"
    }
   ],
   "source": [
    "#This is an easy way to print out the peak time for each of the flares found\n",
    "[elem[\"event_peaktime\"] for elem in hek_events]"
   ]
  },
  {
   "cell_type": "code",
   "execution_count": 21,
   "metadata": {
    "collapsed": false
   },
   "outputs": [
    {
     "data": {
      "text/plain": [
       "[u'131',\n",
       " u'131',\n",
       " u'131',\n",
       " u'171',\n",
       " u'211',\n",
       " u'131',\n",
       " u'131',\n",
       " u'171',\n",
       " u'131',\n",
       " u'171',\n",
       " u'193',\n",
       " u'211',\n",
       " u'304',\n",
       " u'131',\n",
       " u'131',\n",
       " u'193',\n",
       " u'171',\n",
       " u'211',\n",
       " u'131',\n",
       " u'131',\n",
       " u'131',\n",
       " u'131',\n",
       " u'131',\n",
       " u'171',\n",
       " u'211',\n",
       " u'193',\n",
       " u'131',\n",
       " u'171',\n",
       " u'193',\n",
       " u'211',\n",
       " u'94',\n",
       " u'171',\n",
       " u'131']"
      ]
     },
     "execution_count": 21,
     "metadata": {},
     "output_type": "execute_result"
    }
   ],
   "source": [
    "#Tells you what wavelength the flare was detected in. \n",
    "#Unfortunately the HEK lists a separate flare event for each AIA channel, even though they are the same event. \n",
    "[elem[\"obs_channelid\"] for elem in hek_events]"
   ]
  },
  {
   "cell_type": "code",
   "execution_count": 23,
   "metadata": {
    "collapsed": true
   },
   "outputs": [],
   "source": [
    "#OK, now lets see what we have for the emerging flux. \n",
    "#This is the same search, but I changed hek.attrs.EventType\n",
    "ef_events = client.query(hek.attrs.Time(start_time.isoformat(),\n",
    "                                                 end_time.isoformat()),\n",
    "                                  hek.attrs.EventType('EF'))"
   ]
  },
  {
   "cell_type": "code",
   "execution_count": 89,
   "metadata": {
    "collapsed": false
   },
   "outputs": [
    {
     "name": "stdout",
     "output_type": "stream",
     "text": [
      "There were 17 emerging flux events in this time frame\n"
     ]
    }
   ],
   "source": [
    "print 'There were %d emerging flux events in this time frame' % len(ef_events)\n",
    "\n",
    "#ef_events[0].keys() #This prints all of the keys the flare data contains. Again, ther are lots so it clutters the notebook"
   ]
  },
  {
   "cell_type": "code",
   "execution_count": 41,
   "metadata": {
    "collapsed": false
   },
   "outputs": [],
   "source": [
    "#Convert the data to a pandas dataframe. This is just an easy way of displaying and storing columnated data\n",
    "ef = pd.DataFrame(ef_events)"
   ]
  },
  {
   "cell_type": "code",
   "execution_count": 42,
   "metadata": {
    "collapsed": false
   },
   "outputs": [
    {
     "data": {
      "text/html": [
       "<div>\n",
       "<table border=\"1\" class=\"dataframe\">\n",
       "  <thead>\n",
       "    <tr style=\"text-align: right;\">\n",
       "      <th></th>\n",
       "      <th>SOL_standard</th>\n",
       "      <th>active</th>\n",
       "      <th>ar_compactnesscls</th>\n",
       "      <th>ar_mcintoshcls</th>\n",
       "      <th>ar_mtwilsoncls</th>\n",
       "      <th>ar_noaaclass</th>\n",
       "      <th>ar_penumbracls</th>\n",
       "      <th>ar_zurichcls</th>\n",
       "      <th>area_atdiskcenter</th>\n",
       "      <th>area_atdiskcenteruncert</th>\n",
       "      <th>...</th>\n",
       "      <th>obs_lastprocessingdate</th>\n",
       "      <th>obs_meanwavel</th>\n",
       "      <th>obs_observatory</th>\n",
       "      <th>obs_title</th>\n",
       "      <th>obs_wavelunit</th>\n",
       "      <th>rasterscan</th>\n",
       "      <th>rasterscantype</th>\n",
       "      <th>refs</th>\n",
       "      <th>refs_orig</th>\n",
       "      <th>revision</th>\n",
       "    </tr>\n",
       "  </thead>\n",
       "  <tbody>\n",
       "    <tr>\n",
       "      <th>0</th>\n",
       "      <td>SOL2015-12-31T22:32:15L304C080</td>\n",
       "      <td>true</td>\n",
       "      <td></td>\n",
       "      <td></td>\n",
       "      <td></td>\n",
       "      <td></td>\n",
       "      <td></td>\n",
       "      <td></td>\n",
       "      <td>124221000</td>\n",
       "      <td>153152992</td>\n",
       "      <td>...</td>\n",
       "      <td></td>\n",
       "      <td>0.000534</td>\n",
       "      <td>SDO/HMI</td>\n",
       "      <td></td>\n",
       "      <td>cm</td>\n",
       "      <td></td>\n",
       "      <td></td>\n",
       "      <td>[{u'ref_type': u'thumbnail', u'ref_url': u'htt...</td>\n",
       "      <td></td>\n",
       "      <td>2</td>\n",
       "    </tr>\n",
       "    <tr>\n",
       "      <th>1</th>\n",
       "      <td>SOL2015-12-31T23:56:15L287C111</td>\n",
       "      <td>true</td>\n",
       "      <td></td>\n",
       "      <td></td>\n",
       "      <td></td>\n",
       "      <td></td>\n",
       "      <td></td>\n",
       "      <td></td>\n",
       "      <td>91265696</td>\n",
       "      <td>167597008</td>\n",
       "      <td>...</td>\n",
       "      <td></td>\n",
       "      <td>0.000534</td>\n",
       "      <td>SDO/HMI</td>\n",
       "      <td></td>\n",
       "      <td>cm</td>\n",
       "      <td></td>\n",
       "      <td></td>\n",
       "      <td>[{u'ref_type': u'thumbnail', u'ref_url': u'htt...</td>\n",
       "      <td></td>\n",
       "      <td>2</td>\n",
       "    </tr>\n",
       "    <tr>\n",
       "      <th>2</th>\n",
       "      <td>SOL2016-01-01T00:20:15L303C081</td>\n",
       "      <td>true</td>\n",
       "      <td></td>\n",
       "      <td></td>\n",
       "      <td></td>\n",
       "      <td></td>\n",
       "      <td></td>\n",
       "      <td></td>\n",
       "      <td>105495000</td>\n",
       "      <td>191910000</td>\n",
       "      <td>...</td>\n",
       "      <td></td>\n",
       "      <td>0.000534</td>\n",
       "      <td>SDO/HMI</td>\n",
       "      <td></td>\n",
       "      <td>cm</td>\n",
       "      <td></td>\n",
       "      <td></td>\n",
       "      <td>[{u'ref_type': u'thumbnail', u'ref_url': u'htt...</td>\n",
       "      <td></td>\n",
       "      <td>2</td>\n",
       "    </tr>\n",
       "    <tr>\n",
       "      <th>3</th>\n",
       "      <td>SOL2016-01-01T02:34:30L255C086</td>\n",
       "      <td>true</td>\n",
       "      <td></td>\n",
       "      <td></td>\n",
       "      <td></td>\n",
       "      <td></td>\n",
       "      <td></td>\n",
       "      <td></td>\n",
       "      <td>883116992</td>\n",
       "      <td>1513890048</td>\n",
       "      <td>...</td>\n",
       "      <td></td>\n",
       "      <td>0.000534</td>\n",
       "      <td>SDO/HMI</td>\n",
       "      <td></td>\n",
       "      <td>cm</td>\n",
       "      <td></td>\n",
       "      <td></td>\n",
       "      <td>[{u'ref_type': u'thumbnail', u'ref_url': u'htt...</td>\n",
       "      <td></td>\n",
       "      <td>2</td>\n",
       "    </tr>\n",
       "    <tr>\n",
       "      <th>4</th>\n",
       "      <td>SOL2016-01-01T02:58:30L305C105</td>\n",
       "      <td>true</td>\n",
       "      <td></td>\n",
       "      <td></td>\n",
       "      <td></td>\n",
       "      <td></td>\n",
       "      <td></td>\n",
       "      <td></td>\n",
       "      <td>91596200</td>\n",
       "      <td>128325000</td>\n",
       "      <td>...</td>\n",
       "      <td></td>\n",
       "      <td>0.000534</td>\n",
       "      <td>SDO/HMI</td>\n",
       "      <td></td>\n",
       "      <td>cm</td>\n",
       "      <td></td>\n",
       "      <td></td>\n",
       "      <td>[{u'ref_type': u'thumbnail', u'ref_url': u'htt...</td>\n",
       "      <td></td>\n",
       "      <td>2</td>\n",
       "    </tr>\n",
       "  </tbody>\n",
       "</table>\n",
       "<p>5 rows × 118 columns</p>\n",
       "</div>"
      ],
      "text/plain": [
       "                     SOL_standard active ar_compactnesscls ar_mcintoshcls  \\\n",
       "0  SOL2015-12-31T22:32:15L304C080   true                                    \n",
       "1  SOL2015-12-31T23:56:15L287C111   true                                    \n",
       "2  SOL2016-01-01T00:20:15L303C081   true                                    \n",
       "3  SOL2016-01-01T02:34:30L255C086   true                                    \n",
       "4  SOL2016-01-01T02:58:30L305C105   true                                    \n",
       "\n",
       "  ar_mtwilsoncls ar_noaaclass ar_penumbracls ar_zurichcls  area_atdiskcenter  \\\n",
       "0                                                                  124221000   \n",
       "1                                                                   91265696   \n",
       "2                                                                  105495000   \n",
       "3                                                                  883116992   \n",
       "4                                                                   91596200   \n",
       "\n",
       "   area_atdiskcenteruncert   ...     obs_lastprocessingdate  obs_meanwavel  \\\n",
       "0                153152992   ...                                  0.000534   \n",
       "1                167597008   ...                                  0.000534   \n",
       "2                191910000   ...                                  0.000534   \n",
       "3               1513890048   ...                                  0.000534   \n",
       "4                128325000   ...                                  0.000534   \n",
       "\n",
       "  obs_observatory obs_title  obs_wavelunit  rasterscan  rasterscantype  \\\n",
       "0         SDO/HMI                       cm                               \n",
       "1         SDO/HMI                       cm                               \n",
       "2         SDO/HMI                       cm                               \n",
       "3         SDO/HMI                       cm                               \n",
       "4         SDO/HMI                       cm                               \n",
       "\n",
       "                                                refs refs_orig revision  \n",
       "0  [{u'ref_type': u'thumbnail', u'ref_url': u'htt...                  2  \n",
       "1  [{u'ref_type': u'thumbnail', u'ref_url': u'htt...                  2  \n",
       "2  [{u'ref_type': u'thumbnail', u'ref_url': u'htt...                  2  \n",
       "3  [{u'ref_type': u'thumbnail', u'ref_url': u'htt...                  2  \n",
       "4  [{u'ref_type': u'thumbnail', u'ref_url': u'htt...                  2  \n",
       "\n",
       "[5 rows x 118 columns]"
      ]
     },
     "execution_count": 42,
     "metadata": {},
     "output_type": "execute_result"
    }
   ],
   "source": [
    "#Some of the keywords are not populated. Get rid of all columns that contain no information\n",
    "ef = ef.dropna(axis=1,how='all') #If you use how='any' it will get rid of a column if any of the rows is empty. \n",
    "ef.head() #calling a pandas dataframe.head() will print out the first 5 rows. df.tail() prints the last 5 rows. "
   ]
  },
  {
   "cell_type": "code",
   "execution_count": 66,
   "metadata": {
    "collapsed": true
   },
   "outputs": [],
   "source": [
    "#Make a function so that all of the column names will be displayed. If not, the default cuts the middle out. \n",
    "def print_full(x):\n",
    "    pd.set_option('display.max_rows', len(x))\n",
    "    print(x)\n",
    "    pd.reset_option('display.max_rows')"
   ]
  },
  {
   "cell_type": "code",
   "execution_count": 67,
   "metadata": {
    "collapsed": false
   },
   "outputs": [
    {
     "name": "stdout",
     "output_type": "stream",
     "text": [
      "SOL_standard                                       SOL2015-12-31T22:32:15L304C080\n",
      "active                                                                       true\n",
      "ar_compactnesscls                                                                \n",
      "ar_mcintoshcls                                                                   \n",
      "ar_mtwilsoncls                                                                   \n",
      "ar_noaaclass                                                                     \n",
      "ar_penumbracls                                                                   \n",
      "ar_zurichcls                                                                     \n",
      "area_atdiskcenter                                                       124221000\n",
      "area_atdiskcenteruncert                                                 153152992\n",
      "area_raw                                                                107627000\n",
      "area_uncert                                                             132694000\n",
      "area_unit                                                                     km2\n",
      "bound_chaincode                                                                  \n",
      "boundbox_c1ll                                                             27.4278\n",
      "boundbox_c1ur                                                             28.9868\n",
      "boundbox_c2ll                                                             9.50373\n",
      "boundbox_c2ur                                                             10.6843\n",
      "chaincodetype                                                                    \n",
      "comment_count                                                                   0\n",
      "concept                                                             Emerging Flux\n",
      "ef_aspectratio                                                            1.83506\n",
      "ef_axislength                                                             1.41813\n",
      "ef_axisorientation                                                       0.343689\n",
      "ef_axisorientationunit          degrees CCW from + pole west in local solar frame\n",
      "ef_fluxunit                                                                   emx\n",
      "ef_lengthunit                                                                  cm\n",
      "ef_negequivradius                                                        0.618237\n",
      "ef_negpeakfluxonsetrate                                                  -33.9012\n",
      "ef_onsetrateunit                                                           emx/hr\n",
      "ef_posequivradius                                                        0.927356\n",
      "ef_pospeakfluxonsetrate                                                   67.6576\n",
      "ef_proximityratio                                                         0.15177\n",
      "ef_sumnegsignedflux                                                      -37.4129\n",
      "ef_sumpossignedflux                                                       43.1544\n",
      "event_c1error                                                           0.0602008\n",
      "event_c2error                                                           0.0653457\n",
      "event_clippedspatial                                                            0\n",
      "event_clippedtemporal                                                        none\n",
      "event_coord1                                                              28.2029\n",
      "event_coord2                                                              10.0936\n",
      "event_coordsys                                                       UTC-HGS-TOPO\n",
      "event_coordunit                                                           degrees\n",
      "event_description                                                                \n",
      "event_endtime                                                 2016-01-01T02:34:30\n",
      "event_expires                                                                    \n",
      "event_importance_num_ratings                                                     \n",
      "event_mapurl                                                                     \n",
      "event_maskurl                                                                    \n",
      "event_npixels                                                                 832\n",
      "event_peaktime                                                2016-01-01T01:57:45\n",
      "event_pixelunit                                                        HMI pixels\n",
      "event_probability                                                               1\n",
      "event_score                                               0.000197769679522349532\n",
      "event_starttime                                               2015-12-31T22:32:15\n",
      "event_testflag                                                              false\n",
      "event_title                                                                      \n",
      "event_type                                                                     EF\n",
      "eventtype                                                                      13\n",
      "frm_contact                                     Derek Lamb derek@boulder.swri.edu\n",
      "frm_daterun                                                   2015-12-30T00:09:20\n",
      "frm_humanflag                                                               false\n",
      "frm_identifier                                               Feature Finding Team\n",
      "frm_institute                                                                SwRI\n",
      "frm_name                                              Emerging flux region module\n",
      "frm_paramset                                                          To be added\n",
      "frm_specificid                                                                485\n",
      "frm_url                                                       www.cfa.harvard.edu\n",
      "frm_versionnumber                                                            0.29\n",
      "gs_galleryid                                                                     \n",
      "gs_imageurl                     http://sdowww.lmsal.com/sdomedia/ssw/ssw_clien...\n",
      "gs_movieurl                     http://sdowww.lmsal.com/sdomedia/h264/2015/12/...\n",
      "gs_thumburl                     http://sdowww.lmsal.com/sdomedia/ssw/ssw_clien...\n",
      "hcr_checked                                                                 false\n",
      "hgc_bbox                        POLYGON((-57.44318 9.503735,-55.88418 9.503735...\n",
      "hgc_boundcc                                                                      \n",
      "hgc_coord                                                POINT(-56.66808 10.0936)\n",
      "hgc_x                                                                    -56.6681\n",
      "hgc_y                                                                     10.0936\n",
      "hgs_bbox                        POLYGON((27.4278 9.503735,28.9868 9.503735,28....\n",
      "hgs_boundcc                                                                      \n",
      "hgs_coord                                                  POINT(28.2029 10.0936)\n",
      "hgs_x                                                                     28.2029\n",
      "hgs_y                                                                     10.0936\n",
      "hpc_bbox                        POLYGON((445.2012 205.5126,468.3474 204.864,46...\n",
      "hpc_boundcc                                                                      \n",
      "hpc_coord                                                POINT(455.9358 215.0424)\n",
      "hpc_geom                        0103000000010000000500000048BF7D1D38D37B40BF7D...\n",
      "hpc_x                                                                     455.936\n",
      "hpc_y                                                                     215.042\n",
      "hrc_a                                                                     295.251\n",
      "hrc_bbox                        POLYGON((0.502438 294.778867,0.523799 293.6254...\n",
      "hrc_boundcc                                                                      \n",
      "hrc_coord                               POINT(0.516534972908991 295.250937171413)\n",
      "hrc_r                                                                    0.516535\n",
      "intensunit                                                                       \n",
      "kb_archivdate                                                 2016-01-01T05:27:08\n",
      "kb_archivid                     ivo://helio-informatics.org/EF_Emergingfluxreg...\n",
      "kb_archivist                                                                  eds\n",
      "magfluxunit                                                                      \n",
      "maxmagfieldstrength                                                       510.136\n",
      "maxmagfieldstrengthunit                                                     gauss\n",
      "noposition                                                                  false\n",
      "obs_channelid                                                    LOS Magnetograms\n",
      "obs_dataprepurl                                                                  \n",
      "obs_firstprocessingdate                                                          \n",
      "obs_includesnrt                                                                  \n",
      "obs_instrument                                                         HMI_FRONT2\n",
      "obs_lastprocessingdate                                                           \n",
      "obs_meanwavel                                                          0.00053421\n",
      "obs_observatory                                                           SDO/HMI\n",
      "obs_title                                                                        \n",
      "obs_wavelunit                                                                  cm\n",
      "rasterscan                                                                       \n",
      "rasterscantype                                                                   \n",
      "refs                            [{u'ref_type': u'thumbnail', u'ref_url': u'htt...\n",
      "refs_orig                                                                        \n",
      "revision                                                                        2\n",
      "Name: 0, dtype: object\n"
     ]
    }
   ],
   "source": [
    "#print all of the data for the first element in the emerging flux dataset\n",
    "#note: for pandas dataframes, you need to use ef.iloc[0] to reference a row, not just ef[0]\n",
    "#This uses the function defined in the cell above\n",
    "print_full(ef.iloc[0])"
   ]
  },
  {
   "cell_type": "code",
   "execution_count": 88,
   "metadata": {
    "collapsed": false
   },
   "outputs": [
    {
     "data": {
      "image/png": "[encoded data removed]",
      "text/plain": [
       "<matplotlib.figure.Figure at 0x11fe521d0>"
      ]
     },
     "metadata": {},
     "output_type": "display_data"
    }
   ],
   "source": [
    "#This plots a histogram with both the sum of the negative (blue) and positive (red) flux\n",
    "plt.figure(figsize=(10,6))\n",
    "plt.ylim([0,6])\n",
    "plt.hist(ef['ef_sumnegsignedflux'])\n",
    "plt.hist(ef['ef_sumpossignedflux'], color='r')\n",
    "plt.show()\n",
    "\n",
    "\n",
    "#ef['maxmagfieldstrength'].plot(kind='hist')"
   ]
  },
  {
   "cell_type": "code",
   "execution_count": null,
   "metadata": {
    "collapsed": true
   },
   "outputs": [],
   "source": []
  }
 ],
 "metadata": {
  "kernelspec": {
   "display_name": "Python 2",
   "language": "python",
   "name": "python2"
  },
  "language_info": {
   "codemirror_mode": {
    "name": "ipython",
    "version": 2
   },
   "file_extension": ".py",
   "mimetype": "text/x-python",
   "name": "python",
   "nbconvert_exporter": "python",
   "pygments_lexer": "ipython2",
   "version": "2.7.11"
  }
 },
 "nbformat": 4,
 "nbformat_minor": 0
}
