{
 "cells": [
  {
   "cell_type": "markdown",
   "metadata": {},
   "source": [
    "# Exploring the HEK - with Python!"
   ]
  },
  {
   "cell_type": "markdown",
   "metadata": {},
   "source": [
    "The goal of this notebook is to indroduce you to the Heliophysics Events Knowledgebase (HEK) data. It uses the sunpy interface to get the data from the HEK. I then demonstrate how to use the data in python by using what is called a pandas data frame.  This makes it easy to split data, plot feature, and merge datasets together. "
   ]
  },
  {
   "cell_type": "code",
   "execution_count": 13,
   "metadata": {
    "collapsed": true
   },
   "outputs": [],
   "source": [
    "%matplotlib inline\n",
    "#The above line should be included in all notebooks. It ensures that all plots are printed within this notebook. \n",
    "#If you don't include it, plots will appear in a popup window and it is really annoying. "
   ]
  },
  {
   "cell_type": "code",
   "execution_count": 1,
   "metadata": {
    "collapsed": false
   },
   "outputs": [
    {
     "name": "stdout",
     "output_type": "stream",
     "text": [
      "hi, this is my first save!\n"
     ]
    }
   ],
   "source": [
    "print 'hi, this is my first save!'"
   ]
  },
  {
   "cell_type": "code",
   "execution_count": 36,
   "metadata": {
    "collapsed": false
   },
   "outputs": [],
   "source": [
    "#I like to import all of the python packages in the first cell of a notebook so you can see what you will be using\n",
    "#You can always add to this list later as you go along\n",
    "#This is also a good way to know which packages you should have installed on your machine in order to run the code\n",
    "import numpy as np\n",
    "import pandas as pd\n",
    "from datetime import datetime\n",
    "from datetime import timedelta\n",
    "from sunpy.net import hek\n",
    "import matplotlib.pyplot as plt\n",
    "from sunpy.time import parse_time"
   ]
  },
  {
   "cell_type": "code",
   "execution_count": 4,
   "metadata": {
    "collapsed": false
   },
   "outputs": [],
   "source": [
    "#Create a client that will search the HEK. \n",
    "#To then make a query, you just need to supply a start and end time and the event type (there are other things you can do to narrow it down if you want)\n",
    "#This example searches for all flares on Jan 1 as recorded by the flare detective trigger module\n",
    "client = hek.HEKClient()\n",
    "start_time = pd.to_datetime('2016/01/01 00:00')\n",
    "end_time = pd.to_datetime('2016/02/01 00:00')\n",
    "hek_events = client.query(hek.attrs.Time(start_time.isoformat(),\n",
    "                                                 end_time.isoformat()),\n",
    "                                  hek.attrs.EventType('FL'),\n",
    "                                  hek.attrs.FRM.Name == 'Flare Detective - Trigger Module')\n",
    "       \n"
   ]
  },
  {
   "cell_type": "code",
   "execution_count": 6,
   "metadata": {
    "collapsed": false
   },
   "outputs": [
    {
     "name": "stdout",
     "output_type": "stream",
     "text": [
      "There were 512 flares in this time frame\n"
     ]
    }
   ],
   "source": [
    "#Looks at the results. If you run this cell, you can see that there were 33 flares recorded by the HEK at this time.\n",
    "print 'There were %d flares in this time frame' % len(hek_events)\n",
    "#Uncomment this to print all of the keys. There were a ton and it clutters up the notebook, so I didn't do it here. \n",
    "#hek_events[0].keys() #This prints all of the keys the flare data contains"
   ]
  },
  {
   "cell_type": "code",
   "execution_count": 4,
   "metadata": {
    "collapsed": false
   },
   "outputs": [
    {
     "name": "stdout",
     "output_type": "stream",
     "text": [
      "[u'2016-01-01T00:59:33', u'2016-01-01T02:09:21', u'2016-01-01T03:01:33', u'2016-01-01T02:54:23', u'2016-01-01T02:53:48', u'2016-01-01T04:41:21', u'2016-01-01T05:50:21', u'2016-01-01T05:44:59', u'2016-01-01T06:38:57', u'2016-01-01T06:37:47', u'2016-01-01T06:37:30', u'2016-01-01T06:37:48', u'2016-01-01T06:37:43', u'2016-01-01T09:18:57', u'2016-01-01T09:48:09', u'2016-01-01T09:58:42', u'2016-01-01T09:43:47', u'2016-01-01T09:43:48', u'2016-01-01T12:03:57', u'2016-01-01T14:12:09', u'2016-01-01T15:07:21', u'2016-01-01T17:09:09', u'2016-01-01T20:20:45', u'2016-01-01T20:20:23', u'2016-01-01T20:20:24', u'2016-01-01T20:20:18', u'2016-01-01T22:30:21', u'2016-01-01T22:28:35', u'2016-01-01T22:29:30', u'2016-01-01T22:28:36', u'2016-01-01T22:31:13', u'2016-01-01T22:33:59', u'2016-01-02T00:05:57']\n",
      "hi\n"
     ]
    }
   ],
   "source": [
    "#This is an easy way to print out the peak time for each of the flares found\n",
    "print [elem[\"event_peaktime\"] for elem in hek_events]\n",
    "print 'hi'"
   ]
  },
  {
   "cell_type": "code",
   "execution_count": 5,
   "metadata": {
    "collapsed": false
   },
   "outputs": [
    {
     "data": {
      "text/plain": [
       "[u'131',\n",
       " u'131',\n",
       " u'131',\n",
       " u'171',\n",
       " u'211',\n",
       " u'131',\n",
       " u'131',\n",
       " u'171',\n",
       " u'131',\n",
       " u'171',\n",
       " u'193',\n",
       " u'211',\n",
       " u'304',\n",
       " u'131',\n",
       " u'131',\n",
       " u'193',\n",
       " u'171',\n",
       " u'211',\n",
       " u'131',\n",
       " u'131',\n",
       " u'131',\n",
       " u'131',\n",
       " u'131',\n",
       " u'171',\n",
       " u'211',\n",
       " u'193',\n",
       " u'131',\n",
       " u'171',\n",
       " u'193',\n",
       " u'211',\n",
       " u'94',\n",
       " u'171',\n",
       " u'131']"
      ]
     },
     "execution_count": 5,
     "metadata": {},
     "output_type": "execute_result"
    }
   ],
   "source": [
    "#Tells you what wavelength the flare was detected in. \n",
    "#Unfortunately the HEK lists a separate flare event for each AIA channel, even though they are the same event. \n",
    "[elem[\"obs_channelid\"] for elem in hek_events]"
   ]
  },
  {
   "cell_type": "code",
   "execution_count": 7,
   "metadata": {
    "collapsed": true
   },
   "outputs": [],
   "source": [
    "#OK, now lets see what we have for the emerging flux. \n",
    "#This is the same search, but I changed hek.attrs.EventType\n",
    "ef_events = client.query(hek.attrs.Time(start_time.isoformat(),\n",
    "                                                 end_time.isoformat()),\n",
    "                                  hek.attrs.EventType('EF'))"
   ]
  },
  {
   "cell_type": "code",
   "execution_count": 9,
   "metadata": {
    "collapsed": false
   },
   "outputs": [
    {
     "name": "stdout",
     "output_type": "stream",
     "text": [
      "There were 542 emerging flux events in this time frame\n"
     ]
    }
   ],
   "source": [
    "print 'There were %d emerging flux events in this time frame' % len(ef_events)\n",
    "\n",
    "#ef_events[0].keys() #This prints all of the keys the flare data contains. Again, there are lots so it clutters the notebook"
   ]
  },
  {
   "cell_type": "code",
   "execution_count": 10,
   "metadata": {
    "collapsed": false
   },
   "outputs": [],
   "source": [
    "#Convert the data to a pandas dataframe. This is just an easy way of displaying and storing columnated data\n",
    "ef = pd.DataFrame(ef_events)"
   ]
  },
  {
   "cell_type": "code",
   "execution_count": 15,
   "metadata": {
    "collapsed": false
   },
   "outputs": [
    {
     "data": {
      "text/html": [
       "<div>\n",
       "<table border=\"1\" class=\"dataframe\">\n",
       "  <thead>\n",
       "    <tr style=\"text-align: right;\">\n",
       "      <th></th>\n",
       "      <th>SOL_standard</th>\n",
       "      <th>active</th>\n",
       "      <th>ar_compactnesscls</th>\n",
       "      <th>ar_mcintoshcls</th>\n",
       "      <th>ar_mtwilsoncls</th>\n",
       "      <th>ar_noaaclass</th>\n",
       "      <th>ar_penumbracls</th>\n",
       "      <th>ar_zurichcls</th>\n",
       "      <th>area_atdiskcenter</th>\n",
       "      <th>area_atdiskcenteruncert</th>\n",
       "      <th>...</th>\n",
       "      <th>rasterscan</th>\n",
       "      <th>rasterscantype</th>\n",
       "      <th>refs</th>\n",
       "      <th>refs_orig</th>\n",
       "      <th>revision</th>\n",
       "      <th>search_channelid</th>\n",
       "      <th>search_frm_name</th>\n",
       "      <th>search_instrument</th>\n",
       "      <th>search_observatory</th>\n",
       "      <th>sum_overlap_scores</th>\n",
       "    </tr>\n",
       "  </thead>\n",
       "  <tbody>\n",
       "    <tr>\n",
       "      <th>0</th>\n",
       "      <td>SOL2015-12-31T22:32:15L304C080</td>\n",
       "      <td>true</td>\n",
       "      <td></td>\n",
       "      <td></td>\n",
       "      <td></td>\n",
       "      <td></td>\n",
       "      <td></td>\n",
       "      <td></td>\n",
       "      <td>124221000</td>\n",
       "      <td>153152992</td>\n",
       "      <td>...</td>\n",
       "      <td></td>\n",
       "      <td></td>\n",
       "      <td>[{u'ref_type': u'thumbnail', u'ref_url': u'htt...</td>\n",
       "      <td></td>\n",
       "      <td>2</td>\n",
       "      <td>BLOS</td>\n",
       "      <td>SWAMIS-EF</td>\n",
       "      <td>HMI</td>\n",
       "      <td>SDO</td>\n",
       "      <td>0</td>\n",
       "    </tr>\n",
       "    <tr>\n",
       "      <th>1</th>\n",
       "      <td>SOL2015-12-31T23:56:15L287C111</td>\n",
       "      <td>true</td>\n",
       "      <td></td>\n",
       "      <td></td>\n",
       "      <td></td>\n",
       "      <td></td>\n",
       "      <td></td>\n",
       "      <td></td>\n",
       "      <td>91265696</td>\n",
       "      <td>167597008</td>\n",
       "      <td>...</td>\n",
       "      <td></td>\n",
       "      <td></td>\n",
       "      <td>[{u'ref_type': u'thumbnail', u'ref_url': u'htt...</td>\n",
       "      <td></td>\n",
       "      <td>2</td>\n",
       "      <td>BLOS</td>\n",
       "      <td>SWAMIS-EF</td>\n",
       "      <td>HMI</td>\n",
       "      <td>SDO</td>\n",
       "      <td>0</td>\n",
       "    </tr>\n",
       "    <tr>\n",
       "      <th>2</th>\n",
       "      <td>SOL2016-01-01T00:20:15L303C081</td>\n",
       "      <td>true</td>\n",
       "      <td></td>\n",
       "      <td></td>\n",
       "      <td></td>\n",
       "      <td></td>\n",
       "      <td></td>\n",
       "      <td></td>\n",
       "      <td>105495000</td>\n",
       "      <td>191910000</td>\n",
       "      <td>...</td>\n",
       "      <td></td>\n",
       "      <td></td>\n",
       "      <td>[{u'ref_type': u'thumbnail', u'ref_url': u'htt...</td>\n",
       "      <td></td>\n",
       "      <td>2</td>\n",
       "      <td>BLOS</td>\n",
       "      <td>SWAMIS-EF</td>\n",
       "      <td>HMI</td>\n",
       "      <td>SDO</td>\n",
       "      <td>0</td>\n",
       "    </tr>\n",
       "    <tr>\n",
       "      <th>3</th>\n",
       "      <td>SOL2016-01-01T02:34:30L255C086</td>\n",
       "      <td>true</td>\n",
       "      <td></td>\n",
       "      <td></td>\n",
       "      <td></td>\n",
       "      <td></td>\n",
       "      <td></td>\n",
       "      <td></td>\n",
       "      <td>883116992</td>\n",
       "      <td>1513890048</td>\n",
       "      <td>...</td>\n",
       "      <td></td>\n",
       "      <td></td>\n",
       "      <td>[{u'ref_type': u'thumbnail', u'ref_url': u'htt...</td>\n",
       "      <td></td>\n",
       "      <td>2</td>\n",
       "      <td>BLOS</td>\n",
       "      <td>SWAMIS-EF</td>\n",
       "      <td>HMI</td>\n",
       "      <td>SDO</td>\n",
       "      <td>0</td>\n",
       "    </tr>\n",
       "    <tr>\n",
       "      <th>4</th>\n",
       "      <td>SOL2016-01-01T02:58:30L305C105</td>\n",
       "      <td>true</td>\n",
       "      <td></td>\n",
       "      <td></td>\n",
       "      <td></td>\n",
       "      <td></td>\n",
       "      <td></td>\n",
       "      <td></td>\n",
       "      <td>91596200</td>\n",
       "      <td>128325000</td>\n",
       "      <td>...</td>\n",
       "      <td></td>\n",
       "      <td></td>\n",
       "      <td>[{u'ref_type': u'thumbnail', u'ref_url': u'htt...</td>\n",
       "      <td></td>\n",
       "      <td>2</td>\n",
       "      <td>BLOS</td>\n",
       "      <td>SWAMIS-EF</td>\n",
       "      <td>HMI</td>\n",
       "      <td>SDO</td>\n",
       "      <td>0</td>\n",
       "    </tr>\n",
       "  </tbody>\n",
       "</table>\n",
       "<p>5 rows × 124 columns</p>\n",
       "</div>"
      ],
      "text/plain": [
       "                     SOL_standard active ar_compactnesscls ar_mcintoshcls  \\\n",
       "0  SOL2015-12-31T22:32:15L304C080   true                                    \n",
       "1  SOL2015-12-31T23:56:15L287C111   true                                    \n",
       "2  SOL2016-01-01T00:20:15L303C081   true                                    \n",
       "3  SOL2016-01-01T02:34:30L255C086   true                                    \n",
       "4  SOL2016-01-01T02:58:30L305C105   true                                    \n",
       "\n",
       "  ar_mtwilsoncls ar_noaaclass ar_penumbracls ar_zurichcls  area_atdiskcenter  \\\n",
       "0                                                                  124221000   \n",
       "1                                                                   91265696   \n",
       "2                                                                  105495000   \n",
       "3                                                                  883116992   \n",
       "4                                                                   91596200   \n",
       "\n",
       "   area_atdiskcenteruncert        ...          rasterscan  rasterscantype  \\\n",
       "0                153152992        ...                                       \n",
       "1                167597008        ...                                       \n",
       "2                191910000        ...                                       \n",
       "3               1513890048        ...                                       \n",
       "4                128325000        ...                                       \n",
       "\n",
       "                                                refs refs_orig  revision  \\\n",
       "0  [{u'ref_type': u'thumbnail', u'ref_url': u'htt...                   2   \n",
       "1  [{u'ref_type': u'thumbnail', u'ref_url': u'htt...                   2   \n",
       "2  [{u'ref_type': u'thumbnail', u'ref_url': u'htt...                   2   \n",
       "3  [{u'ref_type': u'thumbnail', u'ref_url': u'htt...                   2   \n",
       "4  [{u'ref_type': u'thumbnail', u'ref_url': u'htt...                   2   \n",
       "\n",
       "   search_channelid  search_frm_name  search_instrument search_observatory  \\\n",
       "0              BLOS        SWAMIS-EF                HMI                SDO   \n",
       "1              BLOS        SWAMIS-EF                HMI                SDO   \n",
       "2              BLOS        SWAMIS-EF                HMI                SDO   \n",
       "3              BLOS        SWAMIS-EF                HMI                SDO   \n",
       "4              BLOS        SWAMIS-EF                HMI                SDO   \n",
       "\n",
       "  sum_overlap_scores  \n",
       "0                  0  \n",
       "1                  0  \n",
       "2                  0  \n",
       "3                  0  \n",
       "4                  0  \n",
       "\n",
       "[5 rows x 124 columns]"
      ]
     },
     "execution_count": 15,
     "metadata": {},
     "output_type": "execute_result"
    }
   ],
   "source": [
    "#Some of the keywords are not populated. Get rid of all columns that contain no information\n",
    "ef = ef.dropna(axis=1,how='all') #If you use how='any' it will get rid of a column if any of the rows is empty. \n",
    "ef.head() #calling a pandas dataframe.head() will print out the first 5 rows. df.tail() prints the last 5 rows. "
   ]
  },
  {
   "cell_type": "code",
   "execution_count": 24,
   "metadata": {
    "collapsed": true
   },
   "outputs": [],
   "source": [
    "#Make a function so that all of the column names will be displayed. If not, the default cuts the middle out. \n",
    "def print_full(x):\n",
    "    pd.set_option('display.max_rows', len(x))\n",
    "    print(x)\n",
    "    pd.reset_option('display.max_rows')"
   ]
  },
  {
   "cell_type": "code",
   "execution_count": 11,
   "metadata": {
    "collapsed": false
   },
   "outputs": [
    {
     "name": "stdout",
     "output_type": "stream",
     "text": [
      "SOL_standard                                       SOL2015-12-31T22:32:15L304C080\n",
      "active                                                                       true\n",
      "ar_compactnesscls                                                                \n",
      "ar_mcintoshcls                                                                   \n",
      "ar_mtwilsoncls                                                                   \n",
      "ar_noaaclass                                                                     \n",
      "ar_penumbracls                                                                   \n",
      "ar_zurichcls                                                                     \n",
      "area_atdiskcenter                                                       124221000\n",
      "area_atdiskcenteruncert                                                 153152992\n",
      "area_raw                                                                107627000\n",
      "area_uncert                                                             132694000\n",
      "area_unit                                                                     km2\n",
      "bound_chaincode                                                                  \n",
      "boundbox_c1ll                                                             27.4278\n",
      "boundbox_c1ur                                                             28.9868\n",
      "boundbox_c2ll                                                             9.50373\n",
      "boundbox_c2ur                                                             10.6843\n",
      "chaincodetype                                                                    \n",
      "comment_count                                                                   0\n",
      "concept                                                             Emerging Flux\n",
      "ef_aspectratio                                                            1.83506\n",
      "ef_axislength                                                             1.41813\n",
      "ef_axisorientation                                                       0.343689\n",
      "ef_axisorientationunit          degrees CCW from + pole west in local solar frame\n",
      "ef_fluxunit                                                                   emx\n",
      "ef_lengthunit                                                                  cm\n",
      "ef_negequivradius                                                        0.618237\n",
      "ef_negpeakfluxonsetrate                                                  -33.9012\n",
      "ef_onsetrateunit                                                           emx/hr\n",
      "ef_posequivradius                                                        0.927356\n",
      "ef_pospeakfluxonsetrate                                                   67.6576\n",
      "ef_proximityratio                                                         0.15177\n",
      "ef_sumnegsignedflux                                                      -37.4129\n",
      "ef_sumpossignedflux                                                       43.1544\n",
      "event_c1error                                                           0.0602008\n",
      "event_c2error                                                           0.0653457\n",
      "event_clippedspatial                                                            0\n",
      "event_clippedtemporal                                                        none\n",
      "event_coord1                                                              28.2029\n",
      "event_coord2                                                              10.0936\n",
      "event_coordsys                                                       UTC-HGS-TOPO\n",
      "event_coordunit                                                           degrees\n",
      "event_description                                                                \n",
      "event_endtime                                                 2016-01-01T02:34:30\n",
      "event_expires                                                                    \n",
      "event_importance_num_ratings                                                     \n",
      "event_mapurl                                                                     \n",
      "event_maskurl                                                                    \n",
      "event_npixels                                                                 832\n",
      "event_peaktime                                                2016-01-01T01:57:45\n",
      "event_pixelunit                                                        HMI pixels\n",
      "event_probability                                                               1\n",
      "event_score                                               0.000197769679522349532\n",
      "event_starttime                                               2015-12-31T22:32:15\n",
      "event_testflag                                                              false\n",
      "event_title                                                                      \n",
      "event_type                                                                     EF\n",
      "eventtype                                                                      13\n",
      "frm_contact                                     Derek Lamb derek@boulder.swri.edu\n",
      "frm_daterun                                                   2015-12-30T00:09:20\n",
      "frm_humanflag                                                               false\n",
      "frm_identifier                                               Feature Finding Team\n",
      "frm_institute                                                                SwRI\n",
      "frm_name                                              Emerging flux region module\n",
      "frm_paramset                                                          To be added\n",
      "frm_specificid                                                                485\n",
      "frm_url                                                       www.cfa.harvard.edu\n",
      "frm_versionnumber                                                            0.29\n",
      "gs_galleryid                                                                     \n",
      "gs_imageurl                     http://sdowww.lmsal.com/sdomedia/ssw/ssw_clien...\n",
      "gs_movieurl                     http://sdowww.lmsal.com/sdomedia/h264/2015/12/...\n",
      "gs_thumburl                     http://sdowww.lmsal.com/sdomedia/ssw/ssw_clien...\n",
      "hcr_checked                                                                 false\n",
      "hgc_bbox                        POLYGON((-57.44318 9.503735,-55.88418 9.503735...\n",
      "hgc_boundcc                                                                      \n",
      "hgc_coord                                                POINT(-56.66808 10.0936)\n",
      "hgc_x                                                                    -56.6681\n",
      "hgc_y                                                                     10.0936\n",
      "hgs_bbox                        POLYGON((27.4278 9.503735,28.9868 9.503735,28....\n",
      "hgs_boundcc                                                                      \n",
      "hgs_coord                                                  POINT(28.2029 10.0936)\n",
      "hgs_x                                                                     28.2029\n",
      "hgs_y                                                                     10.0936\n",
      "hpc_bbox                        POLYGON((445.2012 205.5126,468.3474 204.864,46...\n",
      "hpc_boundcc                                                                      \n",
      "hpc_coord                                                POINT(455.9358 215.0424)\n",
      "hpc_geom                        0103000000010000000500000048BF7D1D38D37B40BF7D...\n",
      "hpc_x                                                                     455.936\n",
      "hpc_y                                                                     215.042\n",
      "hrc_a                                                                     295.251\n",
      "hrc_bbox                        POLYGON((0.502438 294.778867,0.523799 293.6254...\n",
      "hrc_boundcc                                                                      \n",
      "hrc_coord                               POINT(0.516534972908991 295.250937171413)\n",
      "hrc_r                                                                    0.516535\n",
      "intensunit                                                                       \n",
      "kb_archivdate                                                 2016-01-01T05:27:08\n",
      "kb_archivid                     ivo://helio-informatics.org/EF_Emergingfluxreg...\n",
      "kb_archivist                                                                  eds\n",
      "magfluxunit                                                                      \n",
      "maxmagfieldstrength                                                       510.136\n",
      "maxmagfieldstrengthunit                                                     gauss\n",
      "noposition                                                                  false\n",
      "obs_channelid                                                    LOS Magnetograms\n",
      "obs_dataprepurl                                                                  \n",
      "obs_firstprocessingdate                                                          \n",
      "obs_includesnrt                                                                  \n",
      "obs_instrument                                                         HMI_FRONT2\n",
      "obs_lastprocessingdate                                                           \n",
      "obs_meanwavel                                                          0.00053421\n",
      "obs_observatory                                                           SDO/HMI\n",
      "obs_title                                                                        \n",
      "obs_wavelunit                                                                  cm\n",
      "rasterscan                                                                       \n",
      "rasterscantype                                                                   \n",
      "refs                            [{u'ref_type': u'thumbnail', u'ref_url': u'htt...\n",
      "refs_orig                                                                        \n",
      "revision                                                                        2\n",
      "search_channelid                                                             BLOS\n",
      "search_frm_name                                                         SWAMIS-EF\n",
      "search_instrument                                                             HMI\n",
      "search_observatory                                                            SDO\n",
      "Name: 0, dtype: object\n"
     ]
    }
   ],
   "source": [
    "#print all of the data for the first element in the emerging flux dataset\n",
    "#note: for pandas dataframes, you need to use ef.iloc[0] to reference a row, not just ef[0]\n",
    "#This uses the function defined in the cell above\n",
    "\n",
    "print_full(ef.iloc[0])"
   ]
  },
  {
   "cell_type": "code",
   "execution_count": 25,
   "metadata": {
    "collapsed": false
   },
   "outputs": [
    {
     "name": "stdout",
     "output_type": "stream",
     "text": [
      "SOL_standard                                       SOL2016-01-01T00:57:57L185C075\n",
      "active                                                                       true\n",
      "ar_compactnesscls                                                                \n",
      "ar_mcintoshcls                                                                   \n",
      "ar_mtwilsoncls                                                                   \n",
      "ar_noaaclass                                                                     \n",
      "ar_noaanum                                                                   None\n",
      "ar_numspots                                                                  None\n",
      "ar_penumbracls                                                                   \n",
      "ar_polarity                                                                  None\n",
      "ar_zurichcls                                                                     \n",
      "area_atdiskcenter                                                            None\n",
      "area_atdiskcenteruncert                                                      None\n",
      "area_raw                                                                     None\n",
      "area_uncert                                                                  None\n",
      "area_unit                                                                        \n",
      "bound_ccnsteps                                                               None\n",
      "bound_ccstartc1                                                              None\n",
      "bound_ccstartc2                                                              None\n",
      "bound_chaincode                                                                  \n",
      "boundbox_c1ll                                                              -998.4\n",
      "boundbox_c1ur                                                              -921.6\n",
      "boundbox_c2ll                                                               230.4\n",
      "boundbox_c2ur                                                               307.2\n",
      "chaincodetype                                                                    \n",
      "comment_count                                                                   0\n",
      "concept                                                                     Flare\n",
      "event_avg_rating                                                             None\n",
      "event_c1error                                                                   2\n",
      "event_c2error                                                                   2\n",
      "event_clippedspatial                                                             \n",
      "event_clippedtemporal                                                            \n",
      "event_coord1                                                                 -960\n",
      "event_coord2                                                                268.8\n",
      "event_coord3                                                                 None\n",
      "event_coordsys                                                       UTC-HPC-TOPO\n",
      "event_coordunit                                                        arcseconds\n",
      "event_description                                                                \n",
      "event_endtime                                                 2016-01-01T01:05:09\n",
      "event_expires                                                                    \n",
      "event_importance                                                             None\n",
      "event_importance_num_ratings                                                     \n",
      "event_mapurl                                                                     \n",
      "event_maskurl                                                                    \n",
      "event_npixels                                                                None\n",
      "event_peaktime                                                2016-01-01T00:59:33\n",
      "event_pixelunit                                                                  \n",
      "event_probability                                                            None\n",
      "event_score                                                0.00324374354900131478\n",
      "event_starttime                                               2016-01-01T00:57:57\n",
      "event_testflag                                                              false\n",
      "event_title                                                                      \n",
      "event_type                                                                     FL\n",
      "eventtype                                                                       9\n",
      "fl_efoldtime                                                                 None\n",
      "fl_efoldtimeunit                                                                 \n",
      "fl_fluence                                                                   None\n",
      "fl_fluenceunit                                                                   \n",
      "fl_goescls                                                                       \n",
      "fl_halphaclass                                                                   \n",
      "fl_peakem                                                                    None\n",
      "fl_peakemunit                                                                    \n",
      "fl_peakflux                                                               24.8245\n",
      "fl_peakfluxunit                                                       erg/cm/cm/s\n",
      "fl_peaktemp                                                                  None\n",
      "fl_peaktempunit                                                                  \n",
      "frm_contact                             Paolo C. Grigis - pgrigis@cfa.harvard.edu\n",
      "frm_daterun                                                   2016-01-03T22:08:33\n",
      "frm_humanflag                                                               false\n",
      "frm_identifier                                               Feature Finding Team\n",
      "frm_institute                                                                 SAO\n",
      "frm_name                                         Flare Detective - Trigger Module\n",
      "frm_paramset                    DerivativeThreshold= 8.00000e-02 EndFraction= ...\n",
      "frm_specificid                                                                   \n",
      "frm_url                                                http://www.cfa.harvard.edu\n",
      "frm_versionnumber                                                            0.51\n",
      "gs_galleryid                                                                     \n",
      "gs_imageurl                     http://sdowww.lmsal.com/sdomedia/ssw/ssw_clien...\n",
      "gs_movieurl                     http://sdowww.lmsal.com/sdomedia/h264/2016/01/...\n",
      "gs_thumburl                     http://sdowww.lmsal.com/sdomedia/ssw/ssw_clien...\n",
      "hcr_checked                                                                 false\n",
      "hgc_bbox                        POLYGON((-175.24612 12.962597,-161.615089 12.9...\n",
      "hgc_boundcc                                                                      \n",
      "hgc_coord                                            POINT(-175.097866 15.606288)\n",
      "hgc_x                                                                    -175.098\n",
      "hgc_y                                                                     15.6063\n",
      "hgs_bbox                        POLYGON((-89.04252 12.962597,-75.411489 12.914...\n",
      "hgs_boundcc                                                                      \n",
      "hgs_coord                                             POINT(-88.894266 15.606288)\n",
      "hgs_x                                                                    -88.8943\n",
      "hgs_y                                                                     15.6063\n",
      "hpc_bbox                        POLYGON((-998.4 230.4,-921.6 230.4,-921.6 307....\n",
      "hpc_boundcc                                                                      \n",
      "hpc_coord                                                       POINT(-960 268.8)\n",
      "hpc_geom                        010300000001000000050000003333333333338FC0CDCC...\n",
      "hpc_radius                                                    996.921982905382606\n",
      "hpc_x                                                                        -960\n",
      "hpc_y                                                                       268.8\n",
      "hrc_a                                                                     74.3578\n",
      "hrc_bbox                        POLYGON((1.049906 77.005383,0.973389 75.963757...\n",
      "hrc_boundcc                                                                      \n",
      "hrc_coord                                POINT(1.02150489662969 74.3577535427913)\n",
      "hrc_r                                                                      1.0215\n",
      "intenskurt                                                                   None\n",
      "intensmax                                                                    None\n",
      "intensmean                                                                   None\n",
      "intensmedian                                                                 None\n",
      "intensmin                                                                    None\n",
      "intensskew                                                                   None\n",
      "intenstotal                                                                  None\n",
      "intensunit                                                                       \n",
      "intensvar                                                                    None\n",
      "kb_archivdate                                                 2016-01-04T06:09:12\n",
      "kb_archivid                     ivo://helio-informatics.org/FL_FlareDetective-...\n",
      "kb_archivist                                                      flare_detective\n",
      "noposition                                                                  false\n",
      "obs_channelid                                                                 131\n",
      "obs_dataprepurl                                                                  \n",
      "obs_firstprocessingdate                                                          \n",
      "obs_includesnrt                                                                  \n",
      "obs_instrument                                                                AIA\n",
      "obs_lastprocessingdate                                                           \n",
      "obs_levelnum                                                                 None\n",
      "obs_meanwavel                                                            1.31e-06\n",
      "obs_observatory                                                               SDO\n",
      "obs_title                                                                        \n",
      "obs_wavelunit                                                                  cm\n",
      "rasterscan                                                                       \n",
      "rasterscantype                                                                   \n",
      "refs                            [{u'ref_type': u'thumbnail', u'ref_url': u'htt...\n",
      "refs_orig                                                                        \n",
      "revision                                                                        2\n",
      "search_channelid                                                              131\n",
      "search_frm_name                                  Flare Detective - Trigger Module\n",
      "search_instrument                                                             AIA\n",
      "search_observatory                                                            SDO\n",
      "skel_chaincode                                                                   \n",
      "skel_curvature                                                               None\n",
      "skel_nsteps                                                                  None\n",
      "skel_startc1                                                                 None\n",
      "skel_startc2                                                                 None\n",
      "sum_overlap_scores                                                              0\n",
      "Name: 0, dtype: object\n"
     ]
    }
   ],
   "source": [
    "flare = pd.DataFrame(hek_events)\n",
    "print_full(flare.iloc[0])"
   ]
  },
  {
   "cell_type": "code",
   "execution_count": 32,
   "metadata": {
    "collapsed": false
   },
   "outputs": [
    {
     "data": {
      "image/png": "[encoded data removed]",
      "text/plain": [
       "<matplotlib.figure.Figure at 0x11dae1dd0>"
      ]
     },
     "metadata": {},
     "output_type": "display_data"
    }
   ],
   "source": [
    "#This plots a histogram with both the sum of the negative (blue) and positive (red) flux\n",
    "plt.figure(figsize=(10,6))\n",
    "#plt.ylim([0,6])\n",
    "plt.hist(ef['ef_sumnegsignedflux'], bins=100)\n",
    "plt.hist(ef['ef_sumpossignedflux'], color='r', bins=100)\n",
    "plt.show()\n",
    "\n",
    "\n",
    "#ef['maxmagfieldstrength'].plot(kind='hist')"
   ]
  },
  {
   "cell_type": "code",
   "execution_count": 18,
   "metadata": {
    "collapsed": false
   },
   "outputs": [],
   "source": [
    "#This plots a histogram with both the sum of the negative (blue) and positive (red) flux\n",
    "plt.figure(figsize=(10,6))\n",
    "plt.ylim([0,2000])\n",
    "plt.scatter(ef['area_atdiskcenter'], (ef['ef_sumpossignedflux']- ef['ef_sumnegsignedflux']))\n",
    "#plt.hist(ef['ef_sumpossignedflux'], color='r')\n",
    "plt.show()\n",
    "\n"
   ]
  },
  {
   "cell_type": "code",
   "execution_count": 19,
   "metadata": {
    "collapsed": false
   },
   "outputs": [],
   "source": [
    "#This plots a histogram with both the sum of the negative (blue) and positive (red) flux\n",
    "plt.figure(figsize=(10,6))\n",
    "plt.scatter(ef['area_atdiskcenter'], ef['maxmagfieldstrength'])\n",
    "plt.hist(ef['ef_sumpossignedflux'], color='r')\n",
    "plt.show()"
   ]
  },
  {
   "cell_type": "code",
   "execution_count": 87,
   "metadata": {
    "collapsed": false
   },
   "outputs": [],
   "source": [
    "#This plots a scatter plot of peak flux vs size for flares data\n",
    "plt.figure(figsize=(10,6))\n",
    "plt.scatter(flare['event_coord2']-flare['event_coord1'], flare['fl_peakflux'])\n",
    "plt.xlabel('Size [arcsec]')\n",
    "plt.ylabel('Peak Flux [erg/cm/cm/s]')\n",
    "plt.title(\"Flare Peak Flux vs Size\")\n",
    "plt.show()"
   ]
  },
  {
   "cell_type": "code",
   "execution_count": 90,
   "metadata": {
    "collapsed": false
   },
   "outputs": [],
   "source": [
    "#This plots flux and flare events with peaktime vs event number index\n",
    "\n",
    "flare_peaktimes = []\n",
    "ef_peaktimes = []\n",
    "for elem in flare['event_peaktime']:\n",
    "    flare_peaktimes.append(parse_time(elem))\n",
    "for elem in ef['event_peaktime']:\n",
    "    ef_peaktimes.append(parse_time(elem))\n",
    "        \n",
    "plt.figure(figsize=(10,6))\n",
    "\n",
    "flare_index = range(1,len(flare_peaktimes)+1)\n",
    "ef_index = range(1,len(ef_peaktimes)+1)\n",
    "\n",
    "plt.plot(flare_index, flare_peaktimes, color = 'red', label = 'Flare Event')\n",
    "plt.plot(ef_index, ef_peaktimes, color = 'blue', label = 'Flux Event')\n",
    "plt.xlim(0,525)\n",
    "\n",
    "plt.xlabel('Event Number')\n",
    "plt.ylabel('Date')\n",
    "plt.title('Flare and Flux Events Indexed by Date')\n",
    "plt.legend(loc = 4)\n",
    "plt.show()\n"
   ]
  },
  {
   "cell_type": "code",
   "execution_count": null,
   "metadata": {
    "collapsed": true
   },
   "outputs": [],
   "source": []
  },
  {
   "cell_type": "code",
   "execution_count": null,
   "metadata": {
    "collapsed": true
   },
   "outputs": [],
   "source": []
  }
 ],
 "metadata": {
  "kernelspec": {
   "display_name": "Python 2",
   "language": "python",
   "name": "python2"
  },
  "language_info": {
   "codemirror_mode": {
    "name": "ipython",
    "version": 2
   },
   "file_extension": ".py",
   "mimetype": "text/x-python",
   "name": "python",
   "nbconvert_exporter": "python",
   "pygments_lexer": "ipython2",
   "version": "2.7.11"
  }
 },
 "nbformat": 4,
 "nbformat_minor": 0
}
