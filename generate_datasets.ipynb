{
 "cells": [
  {
   "cell_type": "code",
   "execution_count": 1,
   "metadata": {
    "collapsed": true
   },
   "outputs": [],
   "source": [
    "import numpy as np\n",
    "import pandas as pd\n",
    "from sunpy.net import hek"
   ]
  },
  {
   "cell_type": "code",
   "execution_count": 2,
   "metadata": {
    "collapsed": true
   },
   "outputs": [],
   "source": [
    "client = hek.HEKClient()\n",
    "start_time = pd.to_datetime('2014/01/01 00:00')\n",
    "end_time = pd.to_datetime('2014/02/01 00:00')\n",
    "flare_events = client.query(hek.attrs.Time(start_time.isoformat(),end_time.isoformat()),\n",
    "                                  hek.attrs.EventType('FL'))\n",
    "flare = pd.DataFrame(flare_events)\n",
    "       "
   ]
  },
  {
   "cell_type": "code",
   "execution_count": 3,
   "metadata": {
    "collapsed": true
   },
   "outputs": [],
   "source": [
    "ef_events = client.query(hek.attrs.Time(start_time.isoformat(),\n",
    "                                                 end_time.isoformat()),\n",
    "                                  hek.attrs.EventType('EF'))\n",
    "ef = pd.DataFrame(ef_events)"
   ]
  },
  {
   "cell_type": "code",
   "execution_count": 4,
   "metadata": {
    "collapsed": true
   },
   "outputs": [],
   "source": [
    "ar_events = client.query(hek.attrs.Time(start_time.isoformat(),\n",
    "                                                 end_time.isoformat()),\n",
    "                                  hek.attrs.EventType('AR'))\n",
    "ar = pd.DataFrame(ar_events)"
   ]
  },
  {
   "cell_type": "code",
   "execution_count": 5,
   "metadata": {
    "collapsed": true
   },
   "outputs": [],
   "source": [
    "hek_events = client.query(hek.attrs.Time(start_time.isoformat(),\n",
    "                                                 end_time.isoformat()),\n",
    "                                  hek.attrs.EventType('FL'),\n",
    "                                  hek.attrs.FRM.Name == 'Flare Detective - Trigger Module')"
   ]
  },
  {
   "cell_type": "code",
   "execution_count": 6,
   "metadata": {
    "collapsed": false
   },
   "outputs": [
    {
     "name": "stdout",
     "output_type": "stream",
     "text": [
      "number of flares all detection modes 2461\n",
      "number of flares flare detective 2012\n"
     ]
    }
   ],
   "source": [
    "print \"number of flares all detection modes %d\" %len(flare_events)\n",
    "print \"number of flares flare detective %d\" %len(hek_events)"
   ]
  },
  {
   "cell_type": "code",
   "execution_count": 7,
   "metadata": {
    "collapsed": false
   },
   "outputs": [
    {
     "name": "stdout",
     "output_type": "stream",
     "text": [
      "3807\n"
     ]
    }
   ],
   "source": [
    "print len(ar_events)"
   ]
  },
  {
   "cell_type": "code",
   "execution_count": 14,
   "metadata": {
    "collapsed": false
   },
   "outputs": [
    {
     "name": "stdout",
     "output_type": "stream",
     "text": [
      "['SOL_standard' 'boundbox_c1ll' 'boundbox_c1ur' 'boundbox_c2ll'\n",
      " 'boundbox_c2ur' 'event_coord1' 'event_coord2' 'event_coordsys'\n",
      " 'event_coordunit' 'event_endtime' 'event_npixels' 'event_peaktime'\n",
      " 'event_pixelunit' 'event_score' 'event_starttime' 'fl_peakflux'\n",
      " 'fl_peakfluxunit' 'frm_paramset' 'hgc_bbox' 'hgc_boundcc' 'hgc_coord'\n",
      " 'hgc_x' 'hgc_y' 'hgs_bbox' 'hgs_boundcc' 'hgs_coord' 'hgs_x' 'hgs_y'\n",
      " 'hpc_bbox' 'hpc_boundcc' 'hpc_coord' 'hpc_geom' 'hpc_radius' 'hpc_x'\n",
      " 'hpc_y' 'hrc_a' 'hrc_bbox' 'hrc_boundcc' 'hrc_coord' 'hrc_r'\n",
      " 'obs_channelid' 'obs_includesnrt' 'obs_instrument' 'obs_meanwavel'\n",
      " 'obs_wavelunit' 'search_channelid' 'search_instrument'\n",
      " 'sum_overlap_scores']\n",
      "['SOL_standard' 'area_atdiskcenter' 'area_atdiskcenteruncert' 'area_raw'\n",
      " 'area_uncert' 'area_unit' 'boundbox_c1ll' 'boundbox_c1ur' 'boundbox_c2ll'\n",
      " 'boundbox_c2ur' 'chaincodetype' 'concept' 'ef_aspectratio' 'ef_axislength'\n",
      " 'ef_axisorientation' 'ef_axisorientationunit' 'ef_fluxunit'\n",
      " 'ef_lengthunit' 'ef_negequivradius' 'ef_negpeakfluxonsetrate'\n",
      " 'ef_onsetrateunit' 'ef_posequivradius' 'ef_pospeakfluxonsetrate'\n",
      " 'ef_proximityratio' 'ef_sumnegsignedflux' 'ef_sumpossignedflux'\n",
      " 'event_avg_rating' 'event_c1error' 'event_c2error' 'event_clippedspatial'\n",
      " 'event_coord1' 'event_coord2' 'event_coordsys' 'event_coordunit'\n",
      " 'event_endtime' 'event_npixels' 'event_peaktime' 'event_pixelunit'\n",
      " 'event_probability' 'event_score' 'event_starttime' 'frm_specificid'\n",
      " 'hgc_bbox' 'hgc_boundcc' 'hgc_coord' 'hgc_x' 'hgc_y' 'hgs_bbox'\n",
      " 'hgs_boundcc' 'hgs_coord' 'hgs_x' 'hgs_y' 'hpc_bbox' 'hpc_boundcc'\n",
      " 'hpc_coord' 'hpc_geom' 'hpc_radius' 'hpc_x' 'hpc_y' 'hrc_a' 'hrc_bbox'\n",
      " 'hrc_boundcc' 'hrc_coord' 'hrc_r' 'maxmagfieldstrength'\n",
      " 'maxmagfieldstrengthunit' 'obs_channelid' 'obs_instrument' 'obs_meanwavel'\n",
      " 'obs_observatory' 'obs_wavelunit' 'rasterscan' 'rasterscantype'\n",
      " 'search_channelid' 'search_frm_name' 'search_instrument'\n",
      " 'search_observatory' 'sum_overlap_scores']\n"
     ]
    }
   ],
   "source": [
    "flare_keywords = np.genfromtxt('flare_keywords.csv', delimiter=',', dtype=str)\n",
    "ef_keywords = np.genfromtxt('ef_keywords.csv', delimiter=',', dtype =str)\n",
    "print flare_keywords\n",
    "print ef_keywords\n"
   ]
  },
  {
   "cell_type": "code",
   "execution_count": 15,
   "metadata": {
    "collapsed": true
   },
   "outputs": [],
   "source": [
    "ar.to_csv('look_at_ar_data.csv')"
   ]
  },
  {
   "cell_type": "code",
   "execution_count": null,
   "metadata": {
    "collapsed": true
   },
   "outputs": [],
   "source": []
  }
 ],
 "metadata": {
  "kernelspec": {
   "display_name": "Python 2",
   "language": "python",
   "name": "python2"
  },
  "language_info": {
   "codemirror_mode": {
    "name": "ipython",
    "version": 2
   },
   "file_extension": ".py",
   "mimetype": "text/x-python",
   "name": "python",
   "nbconvert_exporter": "python",
   "pygments_lexer": "ipython2",
   "version": "2.7.11"
  }
 },
 "nbformat": 4,
 "nbformat_minor": 0
}
