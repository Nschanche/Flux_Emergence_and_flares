{
 "cells": [
  {
   "cell_type": "code",
   "execution_count": 1,
   "metadata": {
    "collapsed": true
   },
   "outputs": [],
   "source": [
    "import numpy as np\n",
    "import pandas as pd\n",
    "from sunpy.physics.differential_rotation import rot_hpc\n",
    "from astropy import units as u\n",
    "from shapely.geometry import Polygon\n",
    "from shapely import wkt\n",
    "import os"
   ]
  },
  {
   "cell_type": "code",
   "execution_count": null,
   "metadata": {
    "collapsed": true
   },
   "outputs": [],
   "source": [
    "def collect_ar_noaa(df, folder):\n",
    "    unique_noaa = df.ar_noaanum.unique()\n",
    "    keywords_ar = list(np.genfromtxt('keywords_ar.csv', delimiter=',', dtype =str))\n",
    "    noaa_dic = {elem : pd.DataFrame for elem in unique_noaa}\n",
    "    start_times = []\n",
    "    end_times= []\n",
    "    file_names = []\n",
    "    i = 0\n",
    "    for key in noaa_dic.keys():\n",
    "        if i != 0:\n",
    "            noaa_dic[key] = df[:][df.ar_noaanum == key]\n",
    "            start_time = noaa_dic[key]['event_starttime'].values[0]\n",
    "            end_time = noaa_dic[key]['event_endtime'].values[-1]\n",
    "            start_times.append(start_time)\n",
    "            end_times.append(end_time)\n",
    "            fName = str(key)[:-2] +'_'+ start_time[0:10]+'_'+end_time[0:10]\n",
    "            location = folder + '/' + fName+ '.csv'\n",
    "            noaa_dic[key].to_csv(location, columns = keywords_ar, index = False)\n",
    "            file_names.append(fName)\n",
    "        i+=1  "
   ]
  },
  {
   "cell_type": "code",
   "execution_count": 2,
   "metadata": {
    "collapsed": true
   },
   "outputs": [],
   "source": [
    "ar_keywords = np.genfromtxt('keywords_ar_1.csv', delimiter = ',', dtype = str)"
   ]
  },
  {
   "cell_type": "code",
   "execution_count": 8,
   "metadata": {
    "collapsed": true
   },
   "outputs": [],
   "source": [
    "def merge_ar_sources(fname, ar_keywords, output_directory):\n",
    "    inputFile = 'AR_raw/'+fname\n",
    "    ar_set =pd.read_csv(inputFile, delimiter = ',', header = 0)\n",
    "    ar_set_NOAA = ar_set.ix[ar_set['frm_identifier']=='NOAA SWPC']\n",
    "    listOindices = ar_set_NOAA.index.tolist()\n",
    "    keywords_ar_add = ['ar_mcintoshcls', 'ar_mtwilsoncls', 'ar_numspots']\n",
    "    ar_set.sort_values(by=['event_starttime','frm_identifier'], ascending =[True, False])\n",
    "    if listOindices!= [] and listOindices!=range(0, ar_set.shape[0]):\n",
    "        for i in range(0, listOindices[0]):\n",
    "            for elem in keywords_ar_add:\n",
    "                ar_set.loc[i, elem] = ar_set.loc[listOindices[0], elem] \n",
    "        for i in range(listOindices[-1], ar_set.shape[0]):\n",
    "            for elem in keywords_ar_add:\n",
    "                ar_set.loc[i, elem] = ar_set.loc[listOindices[-1], elem]\n",
    "        for i, idx in enumerate(listOindices):\n",
    "            if idx!=listOindices[-1]:\n",
    "                for j in range(idx, listOindices[i+1]):\n",
    "                    for elem in keywords_ar_add:\n",
    "                        ar_set.loc[j, elem] = ar_set.loc[idx, elem]\n",
    "        ar_set = ar_set.drop(listOindices)\n",
    "        outputFile = output_directory + '/' + fname\n",
    "        ar_set.to_csv(outputFile, index = False, columns = ar_keywords)\n",
    "        \n",
    "    return ar_set"
   ]
  },
  {
   "cell_type": "code",
   "execution_count": 10,
   "metadata": {
    "collapsed": false
   },
   "outputs": [],
   "source": [
    "AR_folder = 'AR2'\n",
    "for root, dirs, files in os.walk('AR_raw'):\n",
    "    for f in files:\n",
    "        if f[0] != '.':\n",
    "            _ = merge_ar_sources(f, ar_keywords, AR_folder)"
   ]
  },
  {
   "cell_type": "code",
   "execution_count": null,
   "metadata": {
    "collapsed": true
   },
   "outputs": [],
   "source": [
    "def rotate_polygon(polygon, start_time, end_time):\n",
    "    poly_coords = list(polygon.exterior.coords)\n",
    "    poly_coords = (np.asarray(poly_coords[0:-1])) *u.arcsec\n",
    "    poly_coords_x = poly_coords[:,0]\n",
    "    poly_coords_y = poly_coords[:,1]\n",
    "    rotated_poly_coords_x, rotated_poly_coords_y = rot_hpc(poly_coords_x, poly_coords_y, start_time, end_time)\n",
    "    return poly_coords_x.value, poly_coords_y.value, rotated_poly_coords_x.value, rotated_poly_coords_y.value\n",
    "\n",
    "def get_poly_coords(x, y, left_side = False):\n",
    "    if left_side: diff = abs(y-y[x.argmin()])\n",
    "    else: diff = abs(y-y[x.argmax()])\n",
    "    d = {'x': x, 'y': y, 'diff':diff}\n",
    "    sorter_df = pd.DataFrame(data=d)\n",
    "    sorter_df = sorter_df.sort_values(by='x', ascending = left_side)\n",
    "    x0 = sorter_df['x'].values[0]\n",
    "    y0 = sorter_df['y'].values[0]\n",
    "    if sorter_df['diff'].values[1] >= sorter_df['diff'].values[2]:\n",
    "        x1 = sorter_df['x'].values[1]\n",
    "        y1 = sorter_df['y'].values[1]\n",
    "    else:\n",
    "        x1 = sorter_df['x'].values[2]\n",
    "        y1 = sorter_df['y'].values[2]\n",
    "    return x0, y0, x1, y1\n",
    "\n",
    "#function breaks down when AR rotating around the limb\n",
    "\n",
    "def rotate_ar(polygon, start_time, end_time):\n",
    "    og_x, og_y, rot_x, rot_y = rotate_polygon(polygon, start_time, end_time)\n",
    "    x0, y0, x1, y1 = get_poly_coords(og_x, og_y, True)\n",
    "    x2, y2, x3, y3 = get_poly_coords(rot_x, rot_y, False)\n",
    "    #ensure that vertices of quadrilateral are in counterwise order in order to create proper Polygon object\n",
    "    if y0 < y1:\n",
    "        dummy_y = y0\n",
    "        dummy_x = x0\n",
    "        y0 = y1\n",
    "        x0 = x1\n",
    "        y1 = dummy_y\n",
    "        x1 = dummy_x\n",
    "    if y2 > y3:\n",
    "        dummy_y = y2\n",
    "        dummy_x = x2\n",
    "        y2 = y3\n",
    "        x2 = x3\n",
    "        y3 = dummy_y\n",
    "        x3 = dummy_x\n",
    "    rotated_ar_polygon = Polygon([(x0,y0), (x1,y1), (x2,y2), (x3,y3)])\n",
    "    return rotated_ar_polygon"
   ]
  },
  {
   "cell_type": "code",
   "execution_count": null,
   "metadata": {
    "collapsed": true
   },
   "outputs": [],
   "source": [
    "for root, dirs, files in os.walk(AR_folder):\n",
    "    for f in files:\n",
    "        if f[0] != '.':\n",
    "            inputFile = AR_folder +'/'+f\n",
    "            ars = pd.read_csv(inputFile, delimiter = ',', header = 0)\n",
    "            ar_polygon = ars['hpc_bbox']\n",
    "            start_time = ars['event_starttime']\n",
    "            end_time = ars['event_endtime']\n",
    "            full_hpc_polygon = []\n",
    "            for i in range(ars.shape[0]):\n",
    "                poly = rotate_ar(ar_polygon[i], start_time[i], end_time[i])\n",
    "                full_hpc_polygon.append(poly)\n",
    "            "
   ]
  }
 ],
 "metadata": {
  "kernelspec": {
   "display_name": "Python 2",
   "language": "python",
   "name": "python2"
  },
  "language_info": {
   "codemirror_mode": {
    "name": "ipython",
    "version": 2
   },
   "file_extension": ".py",
   "mimetype": "text/x-python",
   "name": "python",
   "nbconvert_exporter": "python",
   "pygments_lexer": "ipython2",
   "version": "2.7.11"
  }
 },
 "nbformat": 4,
 "nbformat_minor": 0
}
