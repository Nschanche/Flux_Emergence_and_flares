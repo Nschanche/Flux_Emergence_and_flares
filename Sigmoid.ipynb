{
 "cells": [
  {
   "cell_type": "code",
   "execution_count": 1,
   "metadata": {
    "collapsed": true
   },
   "outputs": [],
   "source": [
    "import numpy as np\n",
    "import pandas as pd\n",
    "from sunpy.physics.differential_rotation import rot_hpc\n",
    "from astropy import units as u\n",
    "from shapely.geometry import Polygon, Point\n",
    "from shapely import wkt\n",
    "import os\n",
    "import datetime\n",
    "from sunpy.time import parse_time"
   ]
  },
  {
   "cell_type": "code",
   "execution_count": 20,
   "metadata": {
    "collapsed": true
   },
   "outputs": [],
   "source": [
    "def associate_sigmoid(inputFile_fl, inputFile_sigmoid, spatial_sep, output2file=False, out_file = None):\n",
    "    #import a record of flare events as a DataFrame\n",
    "    flare_set = pd.read_csv(inputFile_fl, delimiter = ',', header = 0)\n",
    "    #import a record of sigmoid events as a DataFrame\n",
    "    sigmoid_set = pd.read_csv(inputFile_sigmoid, delimiter = ',', header = 0)\n",
    "    #set solar radius\n",
    "    r = 966\n",
    "    #how many flare events working with\n",
    "    length = flare_set.shape[0]\n",
    "    #list of zeroes with length of number of flare events\n",
    "    zeroes = [0 for i in range(length)]\n",
    "    #list of nulls with length of number of flare events\n",
    "    nones = [None for i in range(length)]\n",
    "    #create columns (filled with zeroes) for tracking associated events\n",
    "    flare_set.loc[:, 'associated_sigmoid'] = nones\n",
    "    flare_set.loc[:, 'num_associated_sigmoid'] = zeroes\n",
    "    flare_set.loc[:, 'dist_sigmoid'] = zeroes\n",
    "\n",
    "    sigmoid_set = sigmoid_set.rename(columns={'event_starttime':'starttime_sigmoid', 'event_endtime':'endtime_sigmoid',\n",
    "                                              'hpc_bbox':'hpc_bbox_sigmoid', 'ar_noaanum': 'sigmoid_noaanum',\n",
    "                                             'search_channelid': 'search_channelid_sigmoid'})\n",
    "    sigmoid_keywords = ['starttime_sigmoid', 'endtime_sigmoid','hpc_bbox_sigmoid', 'sigmoid_noaanum', \n",
    "                        'search_channelid_sigmoid']\n",
    "   \n",
    "    #create columns filled with Nones for each sigmoid keyword\n",
    "    for elem in sigmoid_keywords:\n",
    "         flare_set.loc[:, elem] = nones\n",
    "    #convert start and end times to datetime objects\n",
    "    flare_set['event_starttime'] = map(parse_time, flare_set['event_starttime'])\n",
    "    flare_set['event_endtime'] = map(parse_time, flare_set['event_endtime'])\n",
    "    sigmoid_set['starttime_sigmoid'] = map(parse_time, sigmoid_set['starttime_sigmoid'])\n",
    "    sigmoid_set['endtime_sigmoid'] = map(parse_time, sigmoid_set['endtime_sigmoid'])\n",
    "\n",
    "    #set positional row index \n",
    "    i = -1\n",
    "\n",
    "    for annoying_wrong_obj_type in flare_set['event_starttime']:\n",
    "        i += 1\n",
    "        #print which flare event function is currently processing, so the user has an idea of how much longer\n",
    "        #program will need to run\n",
    "        start = flare_set['event_starttime'].values[i]\n",
    "        end = flare_set['event_endtime'].values[i]\n",
    "        if (i+1)%25 == 0:\n",
    "            print '%d / %d events' %((i+1), length)\n",
    "        #begin eliminating sigmoid events based on temporal parameters\n",
    "        sigmoid_search = sigmoid_set.ix[sigmoid_set['starttime_sigmoid']<=start]\n",
    "        sigmoid_search = sigmoid_search.ix[sigmoid_search['endtime_sigmoid']>=end]\n",
    "        num_associated_sigmoid=0\n",
    "        #as long as the temporal search does not eliminate all possible related sigmoid events, proceed\n",
    "        if sigmoid_search.empty==False:\n",
    "                fl_point = Point((flare_set['hpc_x'].values[i], flare_set['hpc_y'].values[i]))\n",
    "                min_s = spatial_sep\n",
    "                event_index = None\n",
    "                found_sigmoid = False\n",
    "                for j in range(sigmoid_search.shape[0]):\n",
    "                    #create a Shapely polygon object from sigmoid's location\n",
    "                    sigmoid_poly = wkt.loads(sigmoid_search['hpc_bbox_sigmoid'].values[0])\n",
    "                    #calculate the minimum 2D distance between the sigmoid's polygon and the flare's mean coordinates\n",
    "                    chord = fl_point.distance(sigmoid_poly)\n",
    "                    #calculate the minimum 3D distance along the sun's curved surface between the flare and sigmoid\n",
    "                    #assumes the same radius for all events\n",
    "                    s = r*np.arcsin(chord/(2*r))\n",
    "                    #determine whether the spatial distance between flare and sigmoid meets the set parameter\n",
    "                    if s <= spatial_sep:\n",
    "                        #have found an associated sigmoid\n",
    "                        found_sigmoid = True\n",
    "                        num_associated_sigmoid+=1 \n",
    "                        if s <= min_s: \n",
    "                            min_s = s\n",
    "                            event_index = j\n",
    "                if found_sigmoid:\n",
    "                    flare_set['associated_sigmoid'].values[i] = sigmoid_search['SOL_standard'].values[event_index]\n",
    "                    flare_set['num_associated_sigmoid'].values[i] = num_associated_sigmoid\n",
    "                    flare_set['dist_sigmoid'].values[i] = min_s\n",
    "                    for elem in sigmoid_keywords:\n",
    "                        flare_set.loc[i, elem] = sigmoid_search[elem].values[event_index]\n",
    "            \n",
    "    #create boolean var to easily determine whether flare associated with an AR\n",
    "    k = 0\n",
    "    is_sigmoid = [0 for i in range(flare_set.shape[0])]\n",
    "    for elem in flare_set['associated_sigmoid']:\n",
    "        if elem!=None:\n",
    "            is_sigmoid[k] = 1\n",
    "        k+=1\n",
    "    flare_set.loc[:, 'is_sigmoid'] = is_sigmoid\n",
    "    \n",
    "    #write dataframe to a csv file depending on initial parameters\n",
    "    if output2file:\n",
    "        if out_file == None:\n",
    "            #create a generic name for file based on search parameters if no file name specified\n",
    "             out_file = inputFile_fl[0:-4]+'_with_sigmoid.csv'\n",
    "        #import which keywords to keep for outported data\n",
    "        flare_keywords = list(np.genfromtxt('keywords_flare_with_goes_with_ar.csv', delimiter=',', dtype=str))\n",
    "        #add to these keywords descriptors of associated sigmoid\n",
    "        flare_keywords.extend(['is_sigmoid','associated_sigmoid', 'num_associated_sigmoid', 'dist_sigmoid'])\n",
    "        flare_keywords.extend(sigmoid_keywords)\n",
    "        #write to csv\n",
    "        flare_set.to_csv(path_or_buf=out_file, columns = flare_keywords, index = False)\n",
    "        \n",
    "    return flare_set\n",
    "    "
   ]
  },
  {
   "cell_type": "code",
   "execution_count": 21,
   "metadata": {
    "collapsed": false
   },
   "outputs": [
    {
     "ename": "IOError",
     "evalue": "File flare_dataset_cleaned_30min_100arcsec_with_GOES_with_ar.csv does not exist",
     "output_type": "error",
     "traceback": [
      "\u001b[0;31m---------------------------------------------------------------------------\u001b[0m",
      "\u001b[0;31mIOError\u001b[0m                                   Traceback (most recent call last)",
      "\u001b[0;32m<ipython-input-21-1af4258f0252>\u001b[0m in \u001b[0;36m<module>\u001b[0;34m()\u001b[0m\n\u001b[1;32m      1\u001b[0m \u001b[0;31m# associate_sigmoid(inputFile_fl, inputFile_sigmoid, spatial_sep, output2file=False, out_file = None)\u001b[0m\u001b[0;34m\u001b[0m\u001b[0;34m\u001b[0m\u001b[0m\n\u001b[1;32m      2\u001b[0m associate_sigmoid('flare_dataset_cleaned_30min_100arcsec_with_GOES_with_ar.csv', 'raw_sg.csv', 100, output2file=True,\n\u001b[0;32m----> 3\u001b[0;31m                   out_file = None)\n\u001b[0m",
      "\u001b[0;32m<ipython-input-20-b9b95261b54b>\u001b[0m in \u001b[0;36massociate_sigmoid\u001b[0;34m(inputFile_fl, inputFile_sigmoid, spatial_sep, output2file, out_file)\u001b[0m\n\u001b[1;32m      1\u001b[0m \u001b[0;32mdef\u001b[0m \u001b[0massociate_sigmoid\u001b[0m\u001b[0;34m(\u001b[0m\u001b[0minputFile_fl\u001b[0m\u001b[0;34m,\u001b[0m \u001b[0minputFile_sigmoid\u001b[0m\u001b[0;34m,\u001b[0m \u001b[0mspatial_sep\u001b[0m\u001b[0;34m,\u001b[0m \u001b[0moutput2file\u001b[0m\u001b[0;34m=\u001b[0m\u001b[0mFalse\u001b[0m\u001b[0;34m,\u001b[0m \u001b[0mout_file\u001b[0m \u001b[0;34m=\u001b[0m \u001b[0mNone\u001b[0m\u001b[0;34m)\u001b[0m\u001b[0;34m:\u001b[0m\u001b[0;34m\u001b[0m\u001b[0m\n\u001b[1;32m      2\u001b[0m     \u001b[0;31m#import a record of flare events as a DataFrame\u001b[0m\u001b[0;34m\u001b[0m\u001b[0;34m\u001b[0m\u001b[0m\n\u001b[0;32m----> 3\u001b[0;31m     \u001b[0mflare_set\u001b[0m \u001b[0;34m=\u001b[0m \u001b[0mpd\u001b[0m\u001b[0;34m.\u001b[0m\u001b[0mread_csv\u001b[0m\u001b[0;34m(\u001b[0m\u001b[0minputFile_fl\u001b[0m\u001b[0;34m,\u001b[0m \u001b[0mdelimiter\u001b[0m \u001b[0;34m=\u001b[0m \u001b[0;34m','\u001b[0m\u001b[0;34m,\u001b[0m \u001b[0mheader\u001b[0m \u001b[0;34m=\u001b[0m \u001b[0;36m0\u001b[0m\u001b[0;34m)\u001b[0m\u001b[0;34m\u001b[0m\u001b[0m\n\u001b[0m\u001b[1;32m      4\u001b[0m     \u001b[0;31m#import a record of sigmoid events as a DataFrame\u001b[0m\u001b[0;34m\u001b[0m\u001b[0;34m\u001b[0m\u001b[0m\n\u001b[1;32m      5\u001b[0m     \u001b[0msigmoid_set\u001b[0m \u001b[0;34m=\u001b[0m \u001b[0mpd\u001b[0m\u001b[0;34m.\u001b[0m\u001b[0mread_csv\u001b[0m\u001b[0;34m(\u001b[0m\u001b[0minputFile_sigmoid\u001b[0m\u001b[0;34m,\u001b[0m \u001b[0mdelimiter\u001b[0m \u001b[0;34m=\u001b[0m \u001b[0;34m','\u001b[0m\u001b[0;34m,\u001b[0m \u001b[0mheader\u001b[0m \u001b[0;34m=\u001b[0m \u001b[0;36m0\u001b[0m\u001b[0;34m)\u001b[0m\u001b[0;34m\u001b[0m\u001b[0m\n",
      "\u001b[0;32m/usr/local/anaconda/lib/python2.7/site-packages/pandas/io/parsers.py\u001b[0m in \u001b[0;36mparser_f\u001b[0;34m(filepath_or_buffer, sep, delimiter, header, names, index_col, usecols, squeeze, prefix, mangle_dupe_cols, dtype, engine, converters, true_values, false_values, skipinitialspace, skiprows, skipfooter, nrows, na_values, keep_default_na, na_filter, verbose, skip_blank_lines, parse_dates, infer_datetime_format, keep_date_col, date_parser, dayfirst, iterator, chunksize, compression, thousands, decimal, lineterminator, quotechar, quoting, escapechar, comment, encoding, dialect, tupleize_cols, error_bad_lines, warn_bad_lines, skip_footer, doublequote, delim_whitespace, as_recarray, compact_ints, use_unsigned, low_memory, buffer_lines, memory_map, float_precision)\u001b[0m\n\u001b[1;32m    560\u001b[0m                     skip_blank_lines=skip_blank_lines)\n\u001b[1;32m    561\u001b[0m \u001b[0;34m\u001b[0m\u001b[0m\n\u001b[0;32m--> 562\u001b[0;31m         \u001b[0;32mreturn\u001b[0m \u001b[0m_read\u001b[0m\u001b[0;34m(\u001b[0m\u001b[0mfilepath_or_buffer\u001b[0m\u001b[0;34m,\u001b[0m \u001b[0mkwds\u001b[0m\u001b[0;34m)\u001b[0m\u001b[0;34m\u001b[0m\u001b[0m\n\u001b[0m\u001b[1;32m    563\u001b[0m \u001b[0;34m\u001b[0m\u001b[0m\n\u001b[1;32m    564\u001b[0m     \u001b[0mparser_f\u001b[0m\u001b[0;34m.\u001b[0m\u001b[0m__name__\u001b[0m \u001b[0;34m=\u001b[0m \u001b[0mname\u001b[0m\u001b[0;34m\u001b[0m\u001b[0m\n",
      "\u001b[0;32m/usr/local/anaconda/lib/python2.7/site-packages/pandas/io/parsers.py\u001b[0m in \u001b[0;36m_read\u001b[0;34m(filepath_or_buffer, kwds)\u001b[0m\n\u001b[1;32m    313\u001b[0m \u001b[0;34m\u001b[0m\u001b[0m\n\u001b[1;32m    314\u001b[0m     \u001b[0;31m# Create the parser.\u001b[0m\u001b[0;34m\u001b[0m\u001b[0;34m\u001b[0m\u001b[0m\n\u001b[0;32m--> 315\u001b[0;31m     \u001b[0mparser\u001b[0m \u001b[0;34m=\u001b[0m \u001b[0mTextFileReader\u001b[0m\u001b[0;34m(\u001b[0m\u001b[0mfilepath_or_buffer\u001b[0m\u001b[0;34m,\u001b[0m \u001b[0;34m**\u001b[0m\u001b[0mkwds\u001b[0m\u001b[0;34m)\u001b[0m\u001b[0;34m\u001b[0m\u001b[0m\n\u001b[0m\u001b[1;32m    316\u001b[0m \u001b[0;34m\u001b[0m\u001b[0m\n\u001b[1;32m    317\u001b[0m     \u001b[0;32mif\u001b[0m \u001b[0;34m(\u001b[0m\u001b[0mnrows\u001b[0m \u001b[0;32mis\u001b[0m \u001b[0;32mnot\u001b[0m \u001b[0mNone\u001b[0m\u001b[0;34m)\u001b[0m \u001b[0;32mand\u001b[0m \u001b[0;34m(\u001b[0m\u001b[0mchunksize\u001b[0m \u001b[0;32mis\u001b[0m \u001b[0;32mnot\u001b[0m \u001b[0mNone\u001b[0m\u001b[0;34m)\u001b[0m\u001b[0;34m:\u001b[0m\u001b[0;34m\u001b[0m\u001b[0m\n",
      "\u001b[0;32m/usr/local/anaconda/lib/python2.7/site-packages/pandas/io/parsers.py\u001b[0m in \u001b[0;36m__init__\u001b[0;34m(self, f, engine, **kwds)\u001b[0m\n\u001b[1;32m    643\u001b[0m             \u001b[0mself\u001b[0m\u001b[0;34m.\u001b[0m\u001b[0moptions\u001b[0m\u001b[0;34m[\u001b[0m\u001b[0;34m'has_index_names'\u001b[0m\u001b[0;34m]\u001b[0m \u001b[0;34m=\u001b[0m \u001b[0mkwds\u001b[0m\u001b[0;34m[\u001b[0m\u001b[0;34m'has_index_names'\u001b[0m\u001b[0;34m]\u001b[0m\u001b[0;34m\u001b[0m\u001b[0m\n\u001b[1;32m    644\u001b[0m \u001b[0;34m\u001b[0m\u001b[0m\n\u001b[0;32m--> 645\u001b[0;31m         \u001b[0mself\u001b[0m\u001b[0;34m.\u001b[0m\u001b[0m_make_engine\u001b[0m\u001b[0;34m(\u001b[0m\u001b[0mself\u001b[0m\u001b[0;34m.\u001b[0m\u001b[0mengine\u001b[0m\u001b[0;34m)\u001b[0m\u001b[0;34m\u001b[0m\u001b[0m\n\u001b[0m\u001b[1;32m    646\u001b[0m \u001b[0;34m\u001b[0m\u001b[0m\n\u001b[1;32m    647\u001b[0m     \u001b[0;32mdef\u001b[0m \u001b[0mclose\u001b[0m\u001b[0;34m(\u001b[0m\u001b[0mself\u001b[0m\u001b[0;34m)\u001b[0m\u001b[0;34m:\u001b[0m\u001b[0;34m\u001b[0m\u001b[0m\n",
      "\u001b[0;32m/usr/local/anaconda/lib/python2.7/site-packages/pandas/io/parsers.py\u001b[0m in \u001b[0;36m_make_engine\u001b[0;34m(self, engine)\u001b[0m\n\u001b[1;32m    797\u001b[0m     \u001b[0;32mdef\u001b[0m \u001b[0m_make_engine\u001b[0m\u001b[0;34m(\u001b[0m\u001b[0mself\u001b[0m\u001b[0;34m,\u001b[0m \u001b[0mengine\u001b[0m\u001b[0;34m=\u001b[0m\u001b[0;34m'c'\u001b[0m\u001b[0;34m)\u001b[0m\u001b[0;34m:\u001b[0m\u001b[0;34m\u001b[0m\u001b[0m\n\u001b[1;32m    798\u001b[0m         \u001b[0;32mif\u001b[0m \u001b[0mengine\u001b[0m \u001b[0;34m==\u001b[0m \u001b[0;34m'c'\u001b[0m\u001b[0;34m:\u001b[0m\u001b[0;34m\u001b[0m\u001b[0m\n\u001b[0;32m--> 799\u001b[0;31m             \u001b[0mself\u001b[0m\u001b[0;34m.\u001b[0m\u001b[0m_engine\u001b[0m \u001b[0;34m=\u001b[0m \u001b[0mCParserWrapper\u001b[0m\u001b[0;34m(\u001b[0m\u001b[0mself\u001b[0m\u001b[0;34m.\u001b[0m\u001b[0mf\u001b[0m\u001b[0;34m,\u001b[0m \u001b[0;34m**\u001b[0m\u001b[0mself\u001b[0m\u001b[0;34m.\u001b[0m\u001b[0moptions\u001b[0m\u001b[0;34m)\u001b[0m\u001b[0;34m\u001b[0m\u001b[0m\n\u001b[0m\u001b[1;32m    800\u001b[0m         \u001b[0;32melse\u001b[0m\u001b[0;34m:\u001b[0m\u001b[0;34m\u001b[0m\u001b[0m\n\u001b[1;32m    801\u001b[0m             \u001b[0;32mif\u001b[0m \u001b[0mengine\u001b[0m \u001b[0;34m==\u001b[0m \u001b[0;34m'python'\u001b[0m\u001b[0;34m:\u001b[0m\u001b[0;34m\u001b[0m\u001b[0m\n",
      "\u001b[0;32m/usr/local/anaconda/lib/python2.7/site-packages/pandas/io/parsers.py\u001b[0m in \u001b[0;36m__init__\u001b[0;34m(self, src, **kwds)\u001b[0m\n\u001b[1;32m   1211\u001b[0m         \u001b[0mkwds\u001b[0m\u001b[0;34m[\u001b[0m\u001b[0;34m'allow_leading_cols'\u001b[0m\u001b[0;34m]\u001b[0m \u001b[0;34m=\u001b[0m \u001b[0mself\u001b[0m\u001b[0;34m.\u001b[0m\u001b[0mindex_col\u001b[0m \u001b[0;32mis\u001b[0m \u001b[0;32mnot\u001b[0m \u001b[0mFalse\u001b[0m\u001b[0;34m\u001b[0m\u001b[0m\n\u001b[1;32m   1212\u001b[0m \u001b[0;34m\u001b[0m\u001b[0m\n\u001b[0;32m-> 1213\u001b[0;31m         \u001b[0mself\u001b[0m\u001b[0;34m.\u001b[0m\u001b[0m_reader\u001b[0m \u001b[0;34m=\u001b[0m \u001b[0m_parser\u001b[0m\u001b[0;34m.\u001b[0m\u001b[0mTextReader\u001b[0m\u001b[0;34m(\u001b[0m\u001b[0msrc\u001b[0m\u001b[0;34m,\u001b[0m \u001b[0;34m**\u001b[0m\u001b[0mkwds\u001b[0m\u001b[0;34m)\u001b[0m\u001b[0;34m\u001b[0m\u001b[0m\n\u001b[0m\u001b[1;32m   1214\u001b[0m \u001b[0;34m\u001b[0m\u001b[0m\n\u001b[1;32m   1215\u001b[0m         \u001b[0;31m# XXX\u001b[0m\u001b[0;34m\u001b[0m\u001b[0;34m\u001b[0m\u001b[0m\n",
      "\u001b[0;32mpandas/parser.pyx\u001b[0m in \u001b[0;36mpandas.parser.TextReader.__cinit__ (pandas/parser.c:3427)\u001b[0;34m()\u001b[0m\n",
      "\u001b[0;32mpandas/parser.pyx\u001b[0m in \u001b[0;36mpandas.parser.TextReader._setup_parser_source (pandas/parser.c:6861)\u001b[0;34m()\u001b[0m\n",
      "\u001b[0;31mIOError\u001b[0m: File flare_dataset_cleaned_30min_100arcsec_with_GOES_with_ar.csv does not exist"
     ]
    }
   ],
   "source": [
    "# associate_sigmoid(inputFile_fl, inputFile_sigmoid, spatial_sep, output2file=False, out_file = None)\n",
    "associate_sigmoid('flare_dataset_cleaned_30min_100arcsec_with_GOES_with_ar.csv', 'raw_sg.csv', 100, output2file=True,\n",
    "                  out_file = None)"
   ]
  },
  {
   "cell_type": "code",
   "execution_count": null,
   "metadata": {
    "collapsed": true
   },
   "outputs": [],
   "source": []
  }
 ],
 "metadata": {
  "kernelspec": {
   "display_name": "Python 2",
   "language": "python",
   "name": "python2"
  },
  "language_info": {
   "codemirror_mode": {
    "name": "ipython",
    "version": 2
   },
   "file_extension": ".py",
   "mimetype": "text/x-python",
   "name": "python",
   "nbconvert_exporter": "python",
   "pygments_lexer": "ipython2",
   "version": "2.7.11"
  }
 },
 "nbformat": 4,
 "nbformat_minor": 0
}
